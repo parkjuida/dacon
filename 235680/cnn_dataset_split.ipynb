{
 "cells": [
  {
   "cell_type": "code",
   "execution_count": 1,
   "metadata": {},
   "outputs": [],
   "source": [
    "import numpy as np\n",
    "import tensorflow as tf\n",
    "\n",
    "\n",
    "from src.loaders.data_loader import load_train_data, load_submission_data\n",
    "from src.preprocessors.feature_engineering import feature_engineering_cnn\n",
    "from src.preprocessors.dataset_creators import create_cnn_dataset\n",
    "from src.preprocessors.splitors import split_train_valid_test_for_cv\n",
    "from src.model.multiple_output.convolution import Convolution2DVarious\n",
    "from src.loaders.experiment_loader import load_experiment_cnn\n",
    "from src.trainers import compile_and_fit_with_pinball_loss\n",
    "from src.make_submissions.create_submission import create_submission_using_cnn_model\n",
    "from src.make_submissions.create_submission import evaluate_with_submission_cnn\n",
    "\n",
    "setting_index = 1\n",
    "experiment_setting = load_experiment_cnn(setting_index)\n",
    "\n",
    "days = experiment_setting[\"days\"]\n",
    "selector = experiment_setting[\"columns\"]\n",
    "\n",
    "np.random.seed(42)\n",
    "tf.random.set_seed(42)"
   ]
  },
  {
   "cell_type": "code",
   "execution_count": null,
   "metadata": {},
   "outputs": [
    {
     "name": "stdout",
     "output_type": "stream",
     "text": [
      "Epoch 1/1000\n",
      "811/811 [==============================] - 31s 26ms/step - loss: 1.7145 - mean_absolute_error: 16.6412 - mean_squared_error: 866.9792 - _pinball_loss: 1.7145 - val_loss: 1.4594 - val_mean_absolute_error: 13.2022 - val_mean_squared_error: 562.7059 - val__pinball_loss: 1.4594\n",
      "Epoch 2/1000\n",
      "811/811 [==============================] - 9s 11ms/step - loss: 1.5200 - mean_absolute_error: 13.5580 - mean_squared_error: 586.6235 - _pinball_loss: 1.5200 - val_loss: 1.4084 - val_mean_absolute_error: 12.4546 - val_mean_squared_error: 502.5856 - val__pinball_loss: 1.4084\n",
      "Epoch 3/1000\n",
      "811/811 [==============================] - 9s 11ms/step - loss: 1.4838 - mean_absolute_error: 13.0166 - mean_squared_error: 542.5712 - _pinball_loss: 1.4838 - val_loss: 1.3914 - val_mean_absolute_error: 12.3190 - val_mean_squared_error: 490.5213 - val__pinball_loss: 1.3912\n",
      "Epoch 4/1000\n",
      "811/811 [==============================] - 10s 12ms/step - loss: 1.4684 - mean_absolute_error: 12.7986 - mean_squared_error: 525.5327 - _pinball_loss: 1.4684 - val_loss: 1.3798 - val_mean_absolute_error: 12.0563 - val_mean_squared_error: 471.9481 - val__pinball_loss: 1.3800\n",
      "Epoch 5/1000\n",
      "811/811 [==============================] - 10s 12ms/step - loss: 1.4575 - mean_absolute_error: 12.6330 - mean_squared_error: 513.4910 - _pinball_loss: 1.4575 - val_loss: 1.3739 - val_mean_absolute_error: 11.9935 - val_mean_squared_error: 466.0293 - val__pinball_loss: 1.3733\n",
      "Epoch 6/1000\n",
      "811/811 [==============================] - 10s 12ms/step - loss: 1.4497 - mean_absolute_error: 12.5226 - mean_squared_error: 506.0323 - _pinball_loss: 1.4497 - val_loss: 1.3690 - val_mean_absolute_error: 11.8658 - val_mean_squared_error: 459.4596 - val__pinball_loss: 1.3691\n",
      "Epoch 7/1000\n",
      "811/811 [==============================] - 10s 12ms/step - loss: 1.4445 - mean_absolute_error: 12.4512 - mean_squared_error: 501.4443 - _pinball_loss: 1.4445 - val_loss: 1.3652 - val_mean_absolute_error: 11.9219 - val_mean_squared_error: 463.3755 - val__pinball_loss: 1.3655\n",
      "Epoch 8/1000\n",
      "811/811 [==============================] - 10s 12ms/step - loss: 1.4403 - mean_absolute_error: 12.3805 - mean_squared_error: 497.2703 - _pinball_loss: 1.4403 - val_loss: 1.3586 - val_mean_absolute_error: 11.7716 - val_mean_squared_error: 454.4108 - val__pinball_loss: 1.3588\n",
      "Epoch 9/1000\n",
      "811/811 [==============================] - 8s 10ms/step - loss: 1.4372 - mean_absolute_error: 12.3353 - mean_squared_error: 494.5551 - _pinball_loss: 1.4372 - val_loss: 1.3564 - val_mean_absolute_error: 11.7535 - val_mean_squared_error: 452.2534 - val__pinball_loss: 1.3564\n",
      "Epoch 10/1000\n",
      "811/811 [==============================] - 8s 10ms/step - loss: 1.4325 - mean_absolute_error: 12.2899 - mean_squared_error: 491.7866 - _pinball_loss: 1.4325 - val_loss: 1.3524 - val_mean_absolute_error: 11.6322 - val_mean_squared_error: 445.5086 - val__pinball_loss: 1.3528\n",
      "Epoch 11/1000\n",
      "811/811 [==============================] - 8s 10ms/step - loss: 1.4305 - mean_absolute_error: 12.2502 - mean_squared_error: 489.5916 - _pinball_loss: 1.4305 - val_loss: 1.3515 - val_mean_absolute_error: 11.6608 - val_mean_squared_error: 448.0017 - val__pinball_loss: 1.3509\n",
      "Epoch 12/1000\n",
      "811/811 [==============================] - 8s 10ms/step - loss: 1.4273 - mean_absolute_error: 12.2205 - mean_squared_error: 488.3108 - _pinball_loss: 1.4273 - val_loss: 1.3556 - val_mean_absolute_error: 11.9367 - val_mean_squared_error: 463.4513 - val__pinball_loss: 1.3560\n",
      "Epoch 13/1000\n",
      "811/811 [==============================] - 8s 10ms/step - loss: 1.4258 - mean_absolute_error: 12.2214 - mean_squared_error: 488.4527 - _pinball_loss: 1.4258 - val_loss: 1.3496 - val_mean_absolute_error: 11.6710 - val_mean_squared_error: 449.2166 - val__pinball_loss: 1.3496\n",
      "Epoch 14/1000\n",
      "811/811 [==============================] - 8s 10ms/step - loss: 1.4240 - mean_absolute_error: 12.1857 - mean_squared_error: 486.6030 - _pinball_loss: 1.4240 - val_loss: 1.3477 - val_mean_absolute_error: 11.6867 - val_mean_squared_error: 450.9213 - val__pinball_loss: 1.3480\n",
      "Epoch 15/1000\n",
      "811/811 [==============================] - 8s 10ms/step - loss: 1.4213 - mean_absolute_error: 12.1468 - mean_squared_error: 484.4108 - _pinball_loss: 1.4213 - val_loss: 1.3471 - val_mean_absolute_error: 11.7147 - val_mean_squared_error: 451.8731 - val__pinball_loss: 1.3471\n",
      "Epoch 16/1000\n",
      "811/811 [==============================] - 9s 11ms/step - loss: 1.4193 - mean_absolute_error: 12.1263 - mean_squared_error: 483.4215 - _pinball_loss: 1.4193 - val_loss: 1.3459 - val_mean_absolute_error: 11.6777 - val_mean_squared_error: 449.7293 - val__pinball_loss: 1.3460\n",
      "Epoch 17/1000\n",
      "153/811 [====>.........................] - ETA: 5s - loss: 1.4270 - mean_absolute_error: 12.2428 - mean_squared_error: 493.8565 - _pinball_loss: 1.4270"
     ]
    }
   ],
   "source": [
    "df = load_train_data()\n",
    "df = feature_engineering_cnn(df)\n",
    "\n",
    "history = {\n",
    "    \"total_error\": 0,\n",
    "    \"submission_df\": [],\n",
    "    \"total_submission_error\": 0,\n",
    "}\n",
    "\n",
    "for index, (train, valid, test) in enumerate(split_train_valid_test_for_cv(df, 0.5)):\n",
    "    history[index] = {}\n",
    "    \n",
    "    window_generator = create_cnn_dataset(train, valid, test, days, selector)\n",
    "    submission_df = load_submission_data()\n",
    "    \n",
    "    for i in range(1, 10):\n",
    "        q = i/10\n",
    "        history[index][q] = {\"cnn\":[], \"error\": []}\n",
    "        \n",
    "        conv_various = Convolution2DVarious(days, 96, len(selector))\n",
    "        compile_and_fit_with_pinball_loss(conv_various, window_generator, q)\n",
    "        \n",
    "        history[\"total_error\"] += conv_various.evaluate(window_generator.test, verbose=0)[0]\n",
    "        \n",
    "        submission_df[f\"q_{q}\"] = create_submission_using_cnn_model(selector, conv_various, train, days)\n",
    "        history[\"total_submission_error\"] += evaluate_with_submission_cnn(q, train, conv_various, selector, days)\n",
    "        \n",
    "    history[\"submission_df\"].append(submission_df)\n",
    "    \n",
    "import json\n",
    "experiment_setting[\"total_error\"] = history[\"total_error\"] / (36 * df.shape[0] * 0.2)\n",
    "experiment_setting[\"total_submission_error\"] = history[\"total_submission_error\"] / (36 * 80 * 96)\n",
    "\n",
    "with open(f\"experiments/cnn/{setting_index}.json\", \"w\") as f:\n",
    "    json.dump(experiment_setting, f, indent=4)"
   ]
  },
  {
   "cell_type": "code",
   "execution_count": null,
   "metadata": {},
   "outputs": [],
   "source": [
    "print(history[\"total_error\"]/ (36 * df.shape[0] * 0.2), history[\"total_submission_error\"] / (36 * 80 * 96))"
   ]
  },
  {
   "cell_type": "code",
   "execution_count": null,
   "metadata": {},
   "outputs": [],
   "source": [
    "submission_df = load_submission_data()\n",
    "\n",
    "result_list = history[\"submission_df\"]\n",
    "for result_df in result_list:\n",
    "    for i in range(1, 10):\n",
    "        q = i/10\n",
    "        submission_df[f\"q_{q}\"] += result_df[f\"q_{q}\"]\n",
    "                      \n",
    "for i in range(1, 10):\n",
    "    q = i/10\n",
    "    submission_df[f\"q_{q}\"] = submission_df[f\"q_{q}\"] / (index + 1)"
   ]
  },
  {
   "cell_type": "code",
   "execution_count": null,
   "metadata": {},
   "outputs": [],
   "source": [
    "submission_df.to_csv(f\"lightgbm_gbdt_split_dataset_cnn_setting_index_{setting_index}.csv\", index=False)"
   ]
  },
  {
   "cell_type": "code",
   "execution_count": null,
   "metadata": {},
   "outputs": [],
   "source": [
    "77760 / (48  * 5) / 4"
   ]
  },
  {
   "cell_type": "code",
   "execution_count": null,
   "metadata": {},
   "outputs": [],
   "source": []
  }
 ],
 "metadata": {
  "kernelspec": {
   "display_name": "PyCharm (dacon)",
   "language": "python",
   "name": "pycharm-549c67b6"
  },
  "language_info": {
   "codemirror_mode": {
    "name": "ipython",
    "version": 3
   },
   "file_extension": ".py",
   "mimetype": "text/x-python",
   "name": "python",
   "nbconvert_exporter": "python",
   "pygments_lexer": "ipython3",
   "version": "3.7.9"
  }
 },
 "nbformat": 4,
 "nbformat_minor": 4
}
