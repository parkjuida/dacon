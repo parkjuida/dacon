{
 "cells": [
  {
   "cell_type": "code",
   "execution_count": 1,
   "metadata": {},
   "outputs": [],
   "source": [
    "import numpy as np\n",
    "import tensorflow as tf\n",
    "\n",
    "\n",
    "from src.loaders.data_loader import load_train_data, load_submission_data\n",
    "from src.preprocessors.feature_engineering import feature_engineering_cnn\n",
    "from src.preprocessors.dataset_creators import create_cnn_dataset\n",
    "from src.preprocessors.splitors import split_train_valid_test_for_cv\n",
    "from src.model.multiple_output.convolution import Convolution2DVarious\n",
    "from src.loaders.experiment_loader import load_experiment_cnn\n",
    "from src.trainers import compile_and_fit_with_pinball_loss\n",
    "from src.make_submissions.create_submission import create_submission_using_cnn_model\n",
    "from src.make_submissions.create_submission import evaluate_with_submission_cnn\n",
    "\n",
    "setting_index = 1\n",
    "experiment_setting = load_experiment_cnn(setting_index)\n",
    "\n",
    "days = experiment_setting[\"days\"]\n",
    "selector = experiment_setting[\"columns\"]\n",
    "\n",
    "np.random.seed(42)\n",
    "tf.random.set_seed(42)"
   ]
  },
  {
   "cell_type": "code",
   "execution_count": null,
   "metadata": {},
   "outputs": [
    {
     "name": "stdout",
     "output_type": "stream",
     "text": [
      "Epoch 1/1000\n",
      "811/811 [==============================] - 34s 28ms/step - loss: 1.7135 - mean_absolute_error: 16.6257 - mean_squared_error: 865.5235 - _pinball_loss: 1.7135 - val_loss: 1.4571 - val_mean_absolute_error: 13.1878 - val_mean_squared_error: 560.2916 - val__pinball_loss: 1.4571\n",
      "Epoch 2/1000\n",
      "811/811 [==============================] - 9s 11ms/step - loss: 1.5169 - mean_absolute_error: 13.5126 - mean_squared_error: 582.5578 - _pinball_loss: 1.5169 - val_loss: 1.4050 - val_mean_absolute_error: 12.3928 - val_mean_squared_error: 498.1919 - val__pinball_loss: 1.4050\n",
      "Epoch 3/1000\n",
      "811/811 [==============================] - 9s 12ms/step - loss: 1.4811 - mean_absolute_error: 12.9732 - mean_squared_error: 538.8934 - _pinball_loss: 1.4811 - val_loss: 1.3888 - val_mean_absolute_error: 12.2850 - val_mean_squared_error: 487.7596 - val__pinball_loss: 1.3887\n",
      "Epoch 4/1000\n",
      "811/811 [==============================] - 9s 11ms/step - loss: 1.4661 - mean_absolute_error: 12.7647 - mean_squared_error: 522.9351 - _pinball_loss: 1.4661 - val_loss: 1.3788 - val_mean_absolute_error: 12.0722 - val_mean_squared_error: 472.3577 - val__pinball_loss: 1.3790\n",
      "Epoch 5/1000\n",
      "811/811 [==============================] - 9s 11ms/step - loss: 1.4565 - mean_absolute_error: 12.6202 - mean_squared_error: 512.5729 - _pinball_loss: 1.4565 - val_loss: 1.3730 - val_mean_absolute_error: 12.0214 - val_mean_squared_error: 467.8810 - val__pinball_loss: 1.3723\n",
      "Epoch 6/1000\n",
      "811/811 [==============================] - 9s 11ms/step - loss: 1.4488 - mean_absolute_error: 12.5106 - mean_squared_error: 505.1325 - _pinball_loss: 1.4488 - val_loss: 1.3680 - val_mean_absolute_error: 11.8709 - val_mean_squared_error: 459.5494 - val__pinball_loss: 1.3682\n",
      "Epoch 7/1000\n",
      "811/811 [==============================] - 9s 11ms/step - loss: 1.4437 - mean_absolute_error: 12.4364 - mean_squared_error: 500.3491 - _pinball_loss: 1.4437 - val_loss: 1.3653 - val_mean_absolute_error: 11.9461 - val_mean_squared_error: 463.9601 - val__pinball_loss: 1.3656\n",
      "Epoch 8/1000\n",
      "811/811 [==============================] - 9s 11ms/step - loss: 1.4393 - mean_absolute_error: 12.3620 - mean_squared_error: 495.7466 - _pinball_loss: 1.4393 - val_loss: 1.3573 - val_mean_absolute_error: 11.7401 - val_mean_squared_error: 451.7626 - val__pinball_loss: 1.3575\n",
      "Epoch 9/1000\n",
      "811/811 [==============================] - 9s 11ms/step - loss: 1.4364 - mean_absolute_error: 12.3163 - mean_squared_error: 493.1224 - _pinball_loss: 1.4364 - val_loss: 1.3554 - val_mean_absolute_error: 11.7534 - val_mean_squared_error: 452.4693 - val__pinball_loss: 1.3555\n",
      "Epoch 10/1000\n",
      "399/811 [=============>................] - ETA: 3s - loss: 1.4330 - mean_absolute_error: 12.3011 - mean_squared_error: 493.0506 - _pinball_loss: 1.4330"
     ]
    }
   ],
   "source": [
    "df = load_train_data()\n",
    "df = feature_engineering_cnn(df)\n",
    "\n",
    "history = {\n",
    "    \"total_error\": 0,\n",
    "    \"submission_df\": [],\n",
    "    \"total_submission_error\": 0,\n",
    "}\n",
    "\n",
    "for index, (train, valid, test) in enumerate(split_train_valid_test_for_cv(df, 0.5)):\n",
    "    history[index] = {}\n",
    "    \n",
    "    window_generator = create_cnn_dataset(train, valid, test, days, selector)\n",
    "    submission_df = load_submission_data()\n",
    "    \n",
    "    for i in range(1, 10):\n",
    "        q = i/10\n",
    "        history[index][q] = {\"cnn\":[], \"error\": []}\n",
    "        \n",
    "        conv_various = Convolution2DVarious(days, 96, len(selector))\n",
    "        compile_and_fit_with_pinball_loss(conv_various, window_generator, q)\n",
    "        \n",
    "        history[\"total_error\"] += conv_various.evaluate(window_generator.test, verbose=0)[0]\n",
    "        \n",
    "        submission_df[f\"q_{q}\"] = create_submission_using_cnn_model(selector, conv_various, train, days)\n",
    "        history[\"total_submission_error\"] += evaluate_with_submission_cnn(q, train, conv_various, selector, days)\n",
    "        \n",
    "    history[\"submission_df\"].append(submission_df)\n",
    "    \n",
    "import json\n",
    "experiment_setting[\"total_error\"] = history[\"total_error\"] / (36 * df.shape[0] * 0.2)\n",
    "experiment_setting[\"total_submission_error\"] = history[\"total_submission_error\"] / (36 * 80 * 96)\n",
    "\n",
    "with open(f\"experiments/cnn/{setting_index}.json\", \"w\") as f:\n",
    "    json.dump(experiment_setting, f, indent=4)"
   ]
  },
  {
   "cell_type": "code",
   "execution_count": null,
   "metadata": {},
   "outputs": [],
   "source": [
    "print(history[\"total_error\"]/ (36 * df.shape[0] * 0.2), history[\"total_submission_error\"] / (36 * 80 * 96))"
   ]
  },
  {
   "cell_type": "code",
   "execution_count": null,
   "metadata": {},
   "outputs": [],
   "source": [
    "submission_df = load_submission_data()\n",
    "\n",
    "result_list = history[\"submission_df\"]\n",
    "for result_df in result_list:\n",
    "    for i in range(1, 10):\n",
    "        q = i/10\n",
    "        submission_df[f\"q_{q}\"] += result_df[f\"q_{q}\"]\n",
    "                      \n",
    "for i in range(1, 10):\n",
    "    q = i/10\n",
    "    submission_df[f\"q_{q}\"] = submission_df[f\"q_{q}\"] / (index + 1)"
   ]
  },
  {
   "cell_type": "code",
   "execution_count": null,
   "metadata": {},
   "outputs": [],
   "source": [
    "submission_df.to_csv(f\"lightgbm_gbdt_split_dataset_cnn_setting_index_{setting_index}.csv\", index=False)"
   ]
  },
  {
   "cell_type": "code",
   "execution_count": null,
   "metadata": {},
   "outputs": [],
   "source": [
    "142800 / (48 * 81)"
   ]
  },
  {
   "cell_type": "code",
   "execution_count": null,
   "metadata": {},
   "outputs": [],
   "source": [
    "680400 / ( 48 * 81 * 5)"
   ]
  },
  {
   "cell_type": "code",
   "execution_count": null,
   "metadata": {},
   "outputs": [],
   "source": []
  }
 ],
 "metadata": {
  "kernelspec": {
   "display_name": "PyCharm (dacon)",
   "language": "python",
   "name": "pycharm-549c67b6"
  },
  "language_info": {
   "codemirror_mode": {
    "name": "ipython",
    "version": 3
   },
   "file_extension": ".py",
   "mimetype": "text/x-python",
   "name": "python",
   "nbconvert_exporter": "python",
   "pygments_lexer": "ipython3",
   "version": "3.7.9"
  }
 },
 "nbformat": 4,
 "nbformat_minor": 4
}
