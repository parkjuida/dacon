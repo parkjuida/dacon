{
 "cells": [
  {
   "cell_type": "code",
   "execution_count": 1,
   "metadata": {},
   "outputs": [
    {
     "name": "stdout",
     "output_type": "stream",
     "text": [
      "ratio should be 3 length list, example: [0.6, 0.3, 0.1]\n",
      "sum of ration should be 1, example: [0.7, 0.2, 0.1]\n",
      "shape of train, valid, test: (36792, 11), (10511, 11), (5257, 11)\n",
      "Epoch 1/1000\n",
      "1146/1146 [==============================] - 8s 5ms/step - loss: 0.0713 - mean_absolute_error: 0.5363 - mean_squared_error: 0.7846 - _pinball_loss: 0.0713 - val_loss: 0.0579 - val_mean_absolute_error: 0.4737 - val_mean_squared_error: 0.7160 - val__pinball_loss: 0.0579\n",
      "Epoch 2/1000\n",
      "1146/1146 [==============================] - 5s 4ms/step - loss: 0.0507 - mean_absolute_error: 0.4325 - mean_squared_error: 0.6124 - _pinball_loss: 0.0507 - val_loss: 0.0560 - val_mean_absolute_error: 0.4660 - val_mean_squared_error: 0.7017 - val__pinball_loss: 0.0560\n",
      "Epoch 3/1000\n",
      "1146/1146 [==============================] - 5s 4ms/step - loss: 0.0493 - mean_absolute_error: 0.4208 - mean_squared_error: 0.6009 - _pinball_loss: 0.0493 - val_loss: 0.0548 - val_mean_absolute_error: 0.4514 - val_mean_squared_error: 0.6888 - val__pinball_loss: 0.0548\n",
      "Epoch 4/1000\n",
      "1146/1146 [==============================] - 5s 4ms/step - loss: 0.0484 - mean_absolute_error: 0.4142 - mean_squared_error: 0.5962 - _pinball_loss: 0.0484 - val_loss: 0.0547 - val_mean_absolute_error: 0.4489 - val_mean_squared_error: 0.6884 - val__pinball_loss: 0.0547\n",
      "Epoch 5/1000\n",
      "1146/1146 [==============================] - 5s 4ms/step - loss: 0.0479 - mean_absolute_error: 0.4095 - mean_squared_error: 0.5929 - _pinball_loss: 0.0479 - val_loss: 0.0540 - val_mean_absolute_error: 0.4504 - val_mean_squared_error: 0.6958 - val__pinball_loss: 0.0540\n",
      "Epoch 6/1000\n",
      "1146/1146 [==============================] - 5s 4ms/step - loss: 0.0475 - mean_absolute_error: 0.4065 - mean_squared_error: 0.5913 - _pinball_loss: 0.0475 - val_loss: 0.0538 - val_mean_absolute_error: 0.4479 - val_mean_squared_error: 0.6889 - val__pinball_loss: 0.0538\n",
      "Epoch 7/1000\n",
      "1146/1146 [==============================] - 5s 4ms/step - loss: 0.0472 - mean_absolute_error: 0.4043 - mean_squared_error: 0.5897 - _pinball_loss: 0.0472 - val_loss: 0.0532 - val_mean_absolute_error: 0.4371 - val_mean_squared_error: 0.6811 - val__pinball_loss: 0.0532\n",
      "Epoch 8/1000\n",
      "1146/1146 [==============================] - 5s 4ms/step - loss: 0.0469 - mean_absolute_error: 0.4019 - mean_squared_error: 0.5892 - _pinball_loss: 0.0469 - val_loss: 0.0534 - val_mean_absolute_error: 0.4402 - val_mean_squared_error: 0.6813 - val__pinball_loss: 0.0534\n",
      "Epoch 9/1000\n",
      "1146/1146 [==============================] - 5s 4ms/step - loss: 0.0467 - mean_absolute_error: 0.4003 - mean_squared_error: 0.5871 - _pinball_loss: 0.0467 - val_loss: 0.0535 - val_mean_absolute_error: 0.4388 - val_mean_squared_error: 0.6814 - val__pinball_loss: 0.0535\n",
      "Epoch 10/1000\n",
      "1146/1146 [==============================] - 5s 4ms/step - loss: 0.0465 - mean_absolute_error: 0.3989 - mean_squared_error: 0.5861 - _pinball_loss: 0.0465 - val_loss: 0.0533 - val_mean_absolute_error: 0.4412 - val_mean_squared_error: 0.6934 - val__pinball_loss: 0.0533\n",
      "Epoch 11/1000\n",
      "1146/1146 [==============================] - 5s 4ms/step - loss: 0.0464 - mean_absolute_error: 0.3977 - mean_squared_error: 0.5861 - _pinball_loss: 0.0464 - val_loss: 0.0531 - val_mean_absolute_error: 0.4358 - val_mean_squared_error: 0.6814 - val__pinball_loss: 0.0531\n",
      "Epoch 12/1000\n",
      "1146/1146 [==============================] - 5s 4ms/step - loss: 0.0462 - mean_absolute_error: 0.3960 - mean_squared_error: 0.5842 - _pinball_loss: 0.0462 - val_loss: 0.0528 - val_mean_absolute_error: 0.4379 - val_mean_squared_error: 0.6870 - val__pinball_loss: 0.0528\n",
      "Epoch 13/1000\n",
      "1146/1146 [==============================] - 5s 4ms/step - loss: 0.0460 - mean_absolute_error: 0.3951 - mean_squared_error: 0.5824 - _pinball_loss: 0.0460 - val_loss: 0.0527 - val_mean_absolute_error: 0.4374 - val_mean_squared_error: 0.6839 - val__pinball_loss: 0.0527\n",
      "Epoch 14/1000\n",
      "1146/1146 [==============================] - 5s 4ms/step - loss: 0.0459 - mean_absolute_error: 0.3935 - mean_squared_error: 0.5809 - _pinball_loss: 0.0459 - val_loss: 0.0530 - val_mean_absolute_error: 0.4305 - val_mean_squared_error: 0.6750 - val__pinball_loss: 0.0530\n",
      "Epoch 15/1000\n",
      "1146/1146 [==============================] - 5s 4ms/step - loss: 0.0458 - mean_absolute_error: 0.3931 - mean_squared_error: 0.5795 - _pinball_loss: 0.0458 - val_loss: 0.0529 - val_mean_absolute_error: 0.4317 - val_mean_squared_error: 0.6797 - val__pinball_loss: 0.0529\n",
      "Epoch 16/1000\n",
      "1146/1146 [==============================] - 5s 4ms/step - loss: 0.0457 - mean_absolute_error: 0.3919 - mean_squared_error: 0.5780 - _pinball_loss: 0.0457 - val_loss: 0.0532 - val_mean_absolute_error: 0.4331 - val_mean_squared_error: 0.6808 - val__pinball_loss: 0.0532\n",
      "Epoch 17/1000\n",
      "1146/1146 [==============================] - 5s 4ms/step - loss: 0.0456 - mean_absolute_error: 0.3912 - mean_squared_error: 0.5773 - _pinball_loss: 0.0456 - val_loss: 0.0535 - val_mean_absolute_error: 0.4289 - val_mean_squared_error: 0.6788 - val__pinball_loss: 0.0535\n",
      "Epoch 18/1000\n",
      "1146/1146 [==============================] - 5s 4ms/step - loss: 0.0455 - mean_absolute_error: 0.3908 - mean_squared_error: 0.5767 - _pinball_loss: 0.0455 - val_loss: 0.0535 - val_mean_absolute_error: 0.4351 - val_mean_squared_error: 0.6872 - val__pinball_loss: 0.0535\n",
      "ratio should be 3 length list, example: [0.6, 0.3, 0.1]\n",
      "sum of ration should be 1, example: [0.7, 0.2, 0.1]\n",
      "shape of train, valid, test: (36792, 11), (10511, 11), (5257, 11)\n"
     ]
    }
   ],
   "source": [
    "from src.model.multiple_output.convolution import Convolution1\n",
    "from src.model.loss import pinball_loss\n",
    "from src.trainers import compile_and_fit_with_pinball_loss\n",
    "from src.loaders.window_generator import WindowGenerator\n",
    "from src.loaders.data_loader import load_basic_preprocessed_train, load_submission_data\n",
    "from src.make_submissions.load_test_features import make_submission_file\n",
    "\n",
    "INPUT_STEPS = 48\n",
    "OUTPUT_STEPS = 96\n",
    "NUM_FEATURES = 11\n",
    "\n",
    "train_df, valid_df, test_df = load_basic_preprocessed_train()\n",
    "\n",
    "multi_window = WindowGenerator(\n",
    "    train_df,\n",
    "    valid_df,\n",
    "    test_df,\n",
    "    input_width=INPUT_STEPS,\n",
    "    label_width=OUTPUT_STEPS,\n",
    "    shift=OUTPUT_STEPS,\n",
    ")\n",
    "\n",
    "conv = Convolution1(INPUT_STEPS, OUTPUT_STEPS, NUM_FEATURES)\n",
    "submission_df = load_submission_data()\n",
    "result_dict = {}\n",
    "\n",
    "\n",
    "for i in range(1, 2):\n",
    "    q = i/10\n",
    "    loss_function = pinball_loss(q)\n",
    "    \n",
    "    compile_and_fit_with_pinball_loss(conv, multi_window, q)\n",
    "    result_dict[q] = conv.evaluate(multi_window.test, verbose=0)\n",
    "    make_submission_file(conv, submission_df, INPUT_STEPS, q)"
   ]
  },
  {
   "cell_type": "code",
   "execution_count": 3,
   "metadata": {},
   "outputs": [
    {
     "data": {
      "text/plain": [
       "0.04852638393640518"
      ]
     },
     "execution_count": 3,
     "metadata": {},
     "output_type": "execute_result"
    }
   ],
   "source": [
    "sum([values[0] for values in result_dict.values()])\n",
    "conv.evaluate(multi_window.test, verbose=0)[0]"
   ]
  },
  {
   "cell_type": "code",
   "execution_count": 17,
   "metadata": {},
   "outputs": [
    {
     "name": "stdout",
     "output_type": "stream",
     "text": [
      "Epoch 1/1000\n",
      "1137/1137 [==============================] - 7s 6ms/step - loss: 0.0736 - mean_absolute_error: 0.5737 - mean_squared_error: 0.8122 - _pinball_loss: 0.0736 - val_loss: 0.0647 - val_mean_absolute_error: 0.5375 - val_mean_squared_error: 0.7727 - val__pinball_loss: 0.0647\n",
      "Epoch 2/1000\n",
      "1137/1137 [==============================] - 6s 5ms/step - loss: 0.0522 - mean_absolute_error: 0.4382 - mean_squared_error: 0.5806 - _pinball_loss: 0.0522 - val_loss: 0.0644 - val_mean_absolute_error: 0.5088 - val_mean_squared_error: 0.7529 - val__pinball_loss: 0.0644\n",
      "Epoch 3/1000\n",
      "1137/1137 [==============================] - 6s 5ms/step - loss: 0.0499 - mean_absolute_error: 0.4203 - mean_squared_error: 0.5606 - _pinball_loss: 0.0499 - val_loss: 0.0638 - val_mean_absolute_error: 0.5018 - val_mean_squared_error: 0.7387 - val__pinball_loss: 0.0638\n",
      "Epoch 4/1000\n",
      "1137/1137 [==============================] - 6s 5ms/step - loss: 0.0487 - mean_absolute_error: 0.4109 - mean_squared_error: 0.5511 - _pinball_loss: 0.0487 - val_loss: 0.0601 - val_mean_absolute_error: 0.5018 - val_mean_squared_error: 0.7276 - val__pinball_loss: 0.0601\n",
      "Epoch 5/1000\n",
      "1137/1137 [==============================] - 6s 5ms/step - loss: 0.0481 - mean_absolute_error: 0.4060 - mean_squared_error: 0.5446 - _pinball_loss: 0.0481 - val_loss: 0.0604 - val_mean_absolute_error: 0.4664 - val_mean_squared_error: 0.6741 - val__pinball_loss: 0.0604\n",
      "Epoch 6/1000\n",
      "1137/1137 [==============================] - 6s 5ms/step - loss: 0.0475 - mean_absolute_error: 0.4013 - mean_squared_error: 0.5403 - _pinball_loss: 0.0475 - val_loss: 0.0596 - val_mean_absolute_error: 0.4622 - val_mean_squared_error: 0.6764 - val__pinball_loss: 0.0596\n",
      "Epoch 7/1000\n",
      "1137/1137 [==============================] - 6s 5ms/step - loss: 0.0471 - mean_absolute_error: 0.3976 - mean_squared_error: 0.5369 - _pinball_loss: 0.0471 - val_loss: 0.0598 - val_mean_absolute_error: 0.4791 - val_mean_squared_error: 0.7085 - val__pinball_loss: 0.0598\n",
      "Epoch 8/1000\n",
      "1137/1137 [==============================] - 6s 5ms/step - loss: 0.0468 - mean_absolute_error: 0.3950 - mean_squared_error: 0.5335 - _pinball_loss: 0.0468 - val_loss: 0.0576 - val_mean_absolute_error: 0.4755 - val_mean_squared_error: 0.6969 - val__pinball_loss: 0.0576\n",
      "Epoch 9/1000\n",
      "1137/1137 [==============================] - 6s 5ms/step - loss: 0.0464 - mean_absolute_error: 0.3926 - mean_squared_error: 0.5324 - _pinball_loss: 0.0464 - val_loss: 0.0621 - val_mean_absolute_error: 0.4574 - val_mean_squared_error: 0.6688 - val__pinball_loss: 0.0621\n",
      "Epoch 10/1000\n",
      "1137/1137 [==============================] - 6s 5ms/step - loss: 0.0466 - mean_absolute_error: 0.3942 - mean_squared_error: 0.5335 - _pinball_loss: 0.0466 - val_loss: 0.0584 - val_mean_absolute_error: 0.4586 - val_mean_squared_error: 0.6693 - val__pinball_loss: 0.0584\n",
      "Epoch 11/1000\n",
      "1137/1137 [==============================] - 6s 5ms/step - loss: 0.0458 - mean_absolute_error: 0.3881 - mean_squared_error: 0.5287 - _pinball_loss: 0.0458 - val_loss: 0.0594 - val_mean_absolute_error: 0.4602 - val_mean_squared_error: 0.6888 - val__pinball_loss: 0.0594\n",
      "Epoch 12/1000\n",
      "1137/1137 [==============================] - 6s 5ms/step - loss: 0.0458 - mean_absolute_error: 0.3882 - mean_squared_error: 0.5286 - _pinball_loss: 0.0458 - val_loss: 0.0567 - val_mean_absolute_error: 0.4505 - val_mean_squared_error: 0.6772 - val__pinball_loss: 0.0567\n",
      "Epoch 13/1000\n",
      "1137/1137 [==============================] - 6s 6ms/step - loss: 0.0456 - mean_absolute_error: 0.3862 - mean_squared_error: 0.5269 - _pinball_loss: 0.0456 - val_loss: 0.0560 - val_mean_absolute_error: 0.4538 - val_mean_squared_error: 0.6729 - val__pinball_loss: 0.0560\n",
      "Epoch 14/1000\n",
      "1137/1137 [==============================] - 6s 5ms/step - loss: 0.0452 - mean_absolute_error: 0.3839 - mean_squared_error: 0.5251 - _pinball_loss: 0.0452 - val_loss: 0.0570 - val_mean_absolute_error: 0.4489 - val_mean_squared_error: 0.6658 - val__pinball_loss: 0.0570\n",
      "Epoch 15/1000\n",
      "1137/1137 [==============================] - 6s 6ms/step - loss: 0.0452 - mean_absolute_error: 0.3834 - mean_squared_error: 0.5240 - _pinball_loss: 0.0452 - val_loss: 0.0558 - val_mean_absolute_error: 0.4433 - val_mean_squared_error: 0.6710 - val__pinball_loss: 0.0558\n",
      "Epoch 16/1000\n",
      "1137/1137 [==============================] - 6s 5ms/step - loss: 0.0448 - mean_absolute_error: 0.3805 - mean_squared_error: 0.5218 - _pinball_loss: 0.0448 - val_loss: 0.0564 - val_mean_absolute_error: 0.4541 - val_mean_squared_error: 0.6789 - val__pinball_loss: 0.0564\n",
      "Epoch 17/1000\n",
      "1137/1137 [==============================] - 6s 5ms/step - loss: 0.0447 - mean_absolute_error: 0.3794 - mean_squared_error: 0.5209 - _pinball_loss: 0.0447 - val_loss: 0.0572 - val_mean_absolute_error: 0.4590 - val_mean_squared_error: 0.6848 - val__pinball_loss: 0.0572\n",
      "Epoch 18/1000\n",
      "1137/1137 [==============================] - 6s 5ms/step - loss: 0.0447 - mean_absolute_error: 0.3799 - mean_squared_error: 0.5207 - _pinball_loss: 0.0447 - val_loss: 0.0566 - val_mean_absolute_error: 0.4405 - val_mean_squared_error: 0.6640 - val__pinball_loss: 0.0566\n",
      "Epoch 19/1000\n",
      "1137/1137 [==============================] - 6s 5ms/step - loss: 0.0447 - mean_absolute_error: 0.3795 - mean_squared_error: 0.5201 - _pinball_loss: 0.0447 - val_loss: 0.0561 - val_mean_absolute_error: 0.4615 - val_mean_squared_error: 0.6802 - val__pinball_loss: 0.0561\n",
      "Epoch 20/1000\n",
      "1137/1137 [==============================] - 6s 5ms/step - loss: 0.0445 - mean_absolute_error: 0.3777 - mean_squared_error: 0.5189 - _pinball_loss: 0.0445 - val_loss: 0.0584 - val_mean_absolute_error: 0.4365 - val_mean_squared_error: 0.6455 - val__pinball_loss: 0.0584\n"
     ]
    },
    {
     "ename": "InvalidArgumentError",
     "evalue": " Input to reshape is a tensor with 16896 values, but the requested shape requires a multiple of 3696\n\t [[node convolution2_1/sequential_4/lambda_4/Reshape (defined at C:\\Users\\bees1\\PycharmProjects\\dacon\\235680\\src\\model\\multiple_output\\convolution.py:26) ]] [Op:__inference_test_function_336917]\n\nErrors may have originated from an input operation.\nInput Source operations connected to node convolution2_1/sequential_4/lambda_4/Reshape:\n IteratorGetNext (defined at <ipython-input-17-03c363424200>:18)\n\nFunction call stack:\ntest_function\n",
     "output_type": "error",
     "traceback": [
      "\u001b[1;31m---------------------------------------------------------------------------\u001b[0m",
      "\u001b[1;31mInvalidArgumentError\u001b[0m                      Traceback (most recent call last)",
      "\u001b[1;32m<ipython-input-17-03c363424200>\u001b[0m in \u001b[0;36m<module>\u001b[1;34m\u001b[0m\n\u001b[0;32m     16\u001b[0m \u001b[0mconv2\u001b[0m \u001b[1;33m=\u001b[0m \u001b[0mConvolution2\u001b[0m\u001b[1;33m(\u001b[0m\u001b[0mINPUT_STEPS\u001b[0m\u001b[1;33m,\u001b[0m \u001b[0mOUTPUT_STEPS\u001b[0m\u001b[1;33m,\u001b[0m \u001b[0mNUM_FEATURES\u001b[0m\u001b[1;33m)\u001b[0m\u001b[1;33m\u001b[0m\u001b[1;33m\u001b[0m\u001b[0m\n\u001b[0;32m     17\u001b[0m \u001b[0mcompile_and_fit_with_pinball_loss\u001b[0m\u001b[1;33m(\u001b[0m\u001b[0mconv2\u001b[0m\u001b[1;33m,\u001b[0m \u001b[0mone_week_window\u001b[0m\u001b[1;33m,\u001b[0m \u001b[1;36m0.1\u001b[0m\u001b[1;33m)\u001b[0m\u001b[1;33m\u001b[0m\u001b[1;33m\u001b[0m\u001b[0m\n\u001b[1;32m---> 18\u001b[1;33m \u001b[0mconv2\u001b[0m\u001b[1;33m.\u001b[0m\u001b[0mevaluate\u001b[0m\u001b[1;33m(\u001b[0m\u001b[0mmulti_window\u001b[0m\u001b[1;33m.\u001b[0m\u001b[0mtest\u001b[0m\u001b[1;33m,\u001b[0m \u001b[0mverbose\u001b[0m\u001b[1;33m=\u001b[0m\u001b[1;36m0\u001b[0m\u001b[1;33m)\u001b[0m\u001b[1;33m[\u001b[0m\u001b[1;36m0\u001b[0m\u001b[1;33m]\u001b[0m\u001b[1;33m\u001b[0m\u001b[1;33m\u001b[0m\u001b[0m\n\u001b[0m",
      "\u001b[1;32m~\\anaconda3\\envs\\dacon\\lib\\site-packages\\tensorflow\\python\\keras\\engine\\training.py\u001b[0m in \u001b[0;36mevaluate\u001b[1;34m(self, x, y, batch_size, verbose, sample_weight, steps, callbacks, max_queue_size, workers, use_multiprocessing, return_dict)\u001b[0m\n\u001b[0;32m   1387\u001b[0m             \u001b[1;32mwith\u001b[0m \u001b[0mtrace\u001b[0m\u001b[1;33m.\u001b[0m\u001b[0mTrace\u001b[0m\u001b[1;33m(\u001b[0m\u001b[1;34m'test'\u001b[0m\u001b[1;33m,\u001b[0m \u001b[0mstep_num\u001b[0m\u001b[1;33m=\u001b[0m\u001b[0mstep\u001b[0m\u001b[1;33m,\u001b[0m \u001b[0m_r\u001b[0m\u001b[1;33m=\u001b[0m\u001b[1;36m1\u001b[0m\u001b[1;33m)\u001b[0m\u001b[1;33m:\u001b[0m\u001b[1;33m\u001b[0m\u001b[1;33m\u001b[0m\u001b[0m\n\u001b[0;32m   1388\u001b[0m               \u001b[0mcallbacks\u001b[0m\u001b[1;33m.\u001b[0m\u001b[0mon_test_batch_begin\u001b[0m\u001b[1;33m(\u001b[0m\u001b[0mstep\u001b[0m\u001b[1;33m)\u001b[0m\u001b[1;33m\u001b[0m\u001b[1;33m\u001b[0m\u001b[0m\n\u001b[1;32m-> 1389\u001b[1;33m               \u001b[0mtmp_logs\u001b[0m \u001b[1;33m=\u001b[0m \u001b[0mself\u001b[0m\u001b[1;33m.\u001b[0m\u001b[0mtest_function\u001b[0m\u001b[1;33m(\u001b[0m\u001b[0miterator\u001b[0m\u001b[1;33m)\u001b[0m\u001b[1;33m\u001b[0m\u001b[1;33m\u001b[0m\u001b[0m\n\u001b[0m\u001b[0;32m   1390\u001b[0m               \u001b[1;32mif\u001b[0m \u001b[0mdata_handler\u001b[0m\u001b[1;33m.\u001b[0m\u001b[0mshould_sync\u001b[0m\u001b[1;33m:\u001b[0m\u001b[1;33m\u001b[0m\u001b[1;33m\u001b[0m\u001b[0m\n\u001b[0;32m   1391\u001b[0m                 \u001b[0mcontext\u001b[0m\u001b[1;33m.\u001b[0m\u001b[0masync_wait\u001b[0m\u001b[1;33m(\u001b[0m\u001b[1;33m)\u001b[0m\u001b[1;33m\u001b[0m\u001b[1;33m\u001b[0m\u001b[0m\n",
      "\u001b[1;32m~\\anaconda3\\envs\\dacon\\lib\\site-packages\\tensorflow\\python\\eager\\def_function.py\u001b[0m in \u001b[0;36m__call__\u001b[1;34m(self, *args, **kwds)\u001b[0m\n\u001b[0;32m    826\u001b[0m     \u001b[0mtracing_count\u001b[0m \u001b[1;33m=\u001b[0m \u001b[0mself\u001b[0m\u001b[1;33m.\u001b[0m\u001b[0mexperimental_get_tracing_count\u001b[0m\u001b[1;33m(\u001b[0m\u001b[1;33m)\u001b[0m\u001b[1;33m\u001b[0m\u001b[1;33m\u001b[0m\u001b[0m\n\u001b[0;32m    827\u001b[0m     \u001b[1;32mwith\u001b[0m \u001b[0mtrace\u001b[0m\u001b[1;33m.\u001b[0m\u001b[0mTrace\u001b[0m\u001b[1;33m(\u001b[0m\u001b[0mself\u001b[0m\u001b[1;33m.\u001b[0m\u001b[0m_name\u001b[0m\u001b[1;33m)\u001b[0m \u001b[1;32mas\u001b[0m \u001b[0mtm\u001b[0m\u001b[1;33m:\u001b[0m\u001b[1;33m\u001b[0m\u001b[1;33m\u001b[0m\u001b[0m\n\u001b[1;32m--> 828\u001b[1;33m       \u001b[0mresult\u001b[0m \u001b[1;33m=\u001b[0m \u001b[0mself\u001b[0m\u001b[1;33m.\u001b[0m\u001b[0m_call\u001b[0m\u001b[1;33m(\u001b[0m\u001b[1;33m*\u001b[0m\u001b[0margs\u001b[0m\u001b[1;33m,\u001b[0m \u001b[1;33m**\u001b[0m\u001b[0mkwds\u001b[0m\u001b[1;33m)\u001b[0m\u001b[1;33m\u001b[0m\u001b[1;33m\u001b[0m\u001b[0m\n\u001b[0m\u001b[0;32m    829\u001b[0m       \u001b[0mcompiler\u001b[0m \u001b[1;33m=\u001b[0m \u001b[1;34m\"xla\"\u001b[0m \u001b[1;32mif\u001b[0m \u001b[0mself\u001b[0m\u001b[1;33m.\u001b[0m\u001b[0m_experimental_compile\u001b[0m \u001b[1;32melse\u001b[0m \u001b[1;34m\"nonXla\"\u001b[0m\u001b[1;33m\u001b[0m\u001b[1;33m\u001b[0m\u001b[0m\n\u001b[0;32m    830\u001b[0m       \u001b[0mnew_tracing_count\u001b[0m \u001b[1;33m=\u001b[0m \u001b[0mself\u001b[0m\u001b[1;33m.\u001b[0m\u001b[0mexperimental_get_tracing_count\u001b[0m\u001b[1;33m(\u001b[0m\u001b[1;33m)\u001b[0m\u001b[1;33m\u001b[0m\u001b[1;33m\u001b[0m\u001b[0m\n",
      "\u001b[1;32m~\\anaconda3\\envs\\dacon\\lib\\site-packages\\tensorflow\\python\\eager\\def_function.py\u001b[0m in \u001b[0;36m_call\u001b[1;34m(self, *args, **kwds)\u001b[0m\n\u001b[0;32m    860\u001b[0m       \u001b[1;31m# In this case we have not created variables on the first call. So we can\u001b[0m\u001b[1;33m\u001b[0m\u001b[1;33m\u001b[0m\u001b[1;33m\u001b[0m\u001b[0m\n\u001b[0;32m    861\u001b[0m       \u001b[1;31m# run the first trace but we should fail if variables are created.\u001b[0m\u001b[1;33m\u001b[0m\u001b[1;33m\u001b[0m\u001b[1;33m\u001b[0m\u001b[0m\n\u001b[1;32m--> 862\u001b[1;33m       \u001b[0mresults\u001b[0m \u001b[1;33m=\u001b[0m \u001b[0mself\u001b[0m\u001b[1;33m.\u001b[0m\u001b[0m_stateful_fn\u001b[0m\u001b[1;33m(\u001b[0m\u001b[1;33m*\u001b[0m\u001b[0margs\u001b[0m\u001b[1;33m,\u001b[0m \u001b[1;33m**\u001b[0m\u001b[0mkwds\u001b[0m\u001b[1;33m)\u001b[0m\u001b[1;33m\u001b[0m\u001b[1;33m\u001b[0m\u001b[0m\n\u001b[0m\u001b[0;32m    863\u001b[0m       \u001b[1;32mif\u001b[0m \u001b[0mself\u001b[0m\u001b[1;33m.\u001b[0m\u001b[0m_created_variables\u001b[0m\u001b[1;33m:\u001b[0m\u001b[1;33m\u001b[0m\u001b[1;33m\u001b[0m\u001b[0m\n\u001b[0;32m    864\u001b[0m         raise ValueError(\"Creating variables on a non-first call to a function\"\n",
      "\u001b[1;32m~\\anaconda3\\envs\\dacon\\lib\\site-packages\\tensorflow\\python\\eager\\function.py\u001b[0m in \u001b[0;36m__call__\u001b[1;34m(self, *args, **kwargs)\u001b[0m\n\u001b[0;32m   2941\u001b[0m        filtered_flat_args) = self._maybe_define_function(args, kwargs)\n\u001b[0;32m   2942\u001b[0m     return graph_function._call_flat(\n\u001b[1;32m-> 2943\u001b[1;33m         filtered_flat_args, captured_inputs=graph_function.captured_inputs)  # pylint: disable=protected-access\n\u001b[0m\u001b[0;32m   2944\u001b[0m \u001b[1;33m\u001b[0m\u001b[0m\n\u001b[0;32m   2945\u001b[0m   \u001b[1;33m@\u001b[0m\u001b[0mproperty\u001b[0m\u001b[1;33m\u001b[0m\u001b[1;33m\u001b[0m\u001b[0m\n",
      "\u001b[1;32m~\\anaconda3\\envs\\dacon\\lib\\site-packages\\tensorflow\\python\\eager\\function.py\u001b[0m in \u001b[0;36m_call_flat\u001b[1;34m(self, args, captured_inputs, cancellation_manager)\u001b[0m\n\u001b[0;32m   1917\u001b[0m       \u001b[1;31m# No tape is watching; skip to running the function.\u001b[0m\u001b[1;33m\u001b[0m\u001b[1;33m\u001b[0m\u001b[1;33m\u001b[0m\u001b[0m\n\u001b[0;32m   1918\u001b[0m       return self._build_call_outputs(self._inference_function.call(\n\u001b[1;32m-> 1919\u001b[1;33m           ctx, args, cancellation_manager=cancellation_manager))\n\u001b[0m\u001b[0;32m   1920\u001b[0m     forward_backward = self._select_forward_and_backward_functions(\n\u001b[0;32m   1921\u001b[0m         \u001b[0margs\u001b[0m\u001b[1;33m,\u001b[0m\u001b[1;33m\u001b[0m\u001b[1;33m\u001b[0m\u001b[0m\n",
      "\u001b[1;32m~\\anaconda3\\envs\\dacon\\lib\\site-packages\\tensorflow\\python\\eager\\function.py\u001b[0m in \u001b[0;36mcall\u001b[1;34m(self, ctx, args, cancellation_manager)\u001b[0m\n\u001b[0;32m    558\u001b[0m               \u001b[0minputs\u001b[0m\u001b[1;33m=\u001b[0m\u001b[0margs\u001b[0m\u001b[1;33m,\u001b[0m\u001b[1;33m\u001b[0m\u001b[1;33m\u001b[0m\u001b[0m\n\u001b[0;32m    559\u001b[0m               \u001b[0mattrs\u001b[0m\u001b[1;33m=\u001b[0m\u001b[0mattrs\u001b[0m\u001b[1;33m,\u001b[0m\u001b[1;33m\u001b[0m\u001b[1;33m\u001b[0m\u001b[0m\n\u001b[1;32m--> 560\u001b[1;33m               ctx=ctx)\n\u001b[0m\u001b[0;32m    561\u001b[0m         \u001b[1;32melse\u001b[0m\u001b[1;33m:\u001b[0m\u001b[1;33m\u001b[0m\u001b[1;33m\u001b[0m\u001b[0m\n\u001b[0;32m    562\u001b[0m           outputs = execute.execute_with_cancellation(\n",
      "\u001b[1;32m~\\anaconda3\\envs\\dacon\\lib\\site-packages\\tensorflow\\python\\eager\\execute.py\u001b[0m in \u001b[0;36mquick_execute\u001b[1;34m(op_name, num_outputs, inputs, attrs, ctx, name)\u001b[0m\n\u001b[0;32m     58\u001b[0m     \u001b[0mctx\u001b[0m\u001b[1;33m.\u001b[0m\u001b[0mensure_initialized\u001b[0m\u001b[1;33m(\u001b[0m\u001b[1;33m)\u001b[0m\u001b[1;33m\u001b[0m\u001b[1;33m\u001b[0m\u001b[0m\n\u001b[0;32m     59\u001b[0m     tensors = pywrap_tfe.TFE_Py_Execute(ctx._handle, device_name, op_name,\n\u001b[1;32m---> 60\u001b[1;33m                                         inputs, attrs, num_outputs)\n\u001b[0m\u001b[0;32m     61\u001b[0m   \u001b[1;32mexcept\u001b[0m \u001b[0mcore\u001b[0m\u001b[1;33m.\u001b[0m\u001b[0m_NotOkStatusException\u001b[0m \u001b[1;32mas\u001b[0m \u001b[0me\u001b[0m\u001b[1;33m:\u001b[0m\u001b[1;33m\u001b[0m\u001b[1;33m\u001b[0m\u001b[0m\n\u001b[0;32m     62\u001b[0m     \u001b[1;32mif\u001b[0m \u001b[0mname\u001b[0m \u001b[1;32mis\u001b[0m \u001b[1;32mnot\u001b[0m \u001b[1;32mNone\u001b[0m\u001b[1;33m:\u001b[0m\u001b[1;33m\u001b[0m\u001b[1;33m\u001b[0m\u001b[0m\n",
      "\u001b[1;31mInvalidArgumentError\u001b[0m:  Input to reshape is a tensor with 16896 values, but the requested shape requires a multiple of 3696\n\t [[node convolution2_1/sequential_4/lambda_4/Reshape (defined at C:\\Users\\bees1\\PycharmProjects\\dacon\\235680\\src\\model\\multiple_output\\convolution.py:26) ]] [Op:__inference_test_function_336917]\n\nErrors may have originated from an input operation.\nInput Source operations connected to node convolution2_1/sequential_4/lambda_4/Reshape:\n IteratorGetNext (defined at <ipython-input-17-03c363424200>:18)\n\nFunction call stack:\ntest_function\n"
     ]
    }
   ],
   "source": [
    "import src.model.multiple_output.convolution\n",
    "import importlib\n",
    "importlib.reload(src.model.multiple_output.convolution)\n",
    "\n",
    "from src.model.multiple_output.convolution import Convolution2\n",
    "\n",
    "one_week_window = WindowGenerator(\n",
    "    train_df,\n",
    "    valid_df,\n",
    "    test_df,\n",
    "    input_width=48 * 7,\n",
    "    label_width=48 * 2,\n",
    "    shift=48 * 2,\n",
    ")\n",
    "\n",
    "conv1 = Convolution1(INPUT_STEPS, OUTPUT_STEPS, NUM_FEATURES)\n",
    "compile_and_fit_with_pinball_loss(conv1, one_week_window, 0.1)\n",
    "conv1.evaluate(one_week_window.test, verbose=0)[0]"
   ]
  },
  {
   "cell_type": "code",
   "execution_count": 18,
   "metadata": {},
   "outputs": [
    {
     "data": {
      "text/plain": [
       "0.05603908747434616"
      ]
     },
     "execution_count": 18,
     "metadata": {},
     "output_type": "execute_result"
    }
   ],
   "source": [
    "conv2.evaluate(one_week_window.test, verbose=0)[0]"
   ]
  },
  {
   "cell_type": "code",
   "execution_count": 4,
   "metadata": {},
   "outputs": [
    {
     "name": "stdout",
     "output_type": "stream",
     "text": [
      "Epoch 1/1000\n",
      "1137/1137 [==============================] - 14s 11ms/step - loss: 0.0762 - mean_absolute_error: 0.6100 - mean_squared_error: 0.9727 - _pinball_loss: 0.0762 - val_loss: 0.0762 - val_mean_absolute_error: 0.6295 - val_mean_squared_error: 1.0214 - val__pinball_loss: 0.0762\n",
      "Epoch 2/1000\n",
      "1137/1137 [==============================] - 10s 8ms/step - loss: 0.0565 - mean_absolute_error: 0.4737 - mean_squared_error: 0.6497 - _pinball_loss: 0.0565 - val_loss: 0.0735 - val_mean_absolute_error: 0.5812 - val_mean_squared_error: 0.9089 - val__pinball_loss: 0.0735\n",
      "Epoch 3/1000\n",
      "1137/1137 [==============================] - 9s 8ms/step - loss: 0.0529 - mean_absolute_error: 0.4418 - mean_squared_error: 0.5796 - _pinball_loss: 0.0529 - val_loss: 0.0796 - val_mean_absolute_error: 0.5627 - val_mean_squared_error: 0.8302 - val__pinball_loss: 0.0796\n",
      "Epoch 4/1000\n",
      "1137/1137 [==============================] - 8s 7ms/step - loss: 0.0501 - mean_absolute_error: 0.4163 - mean_squared_error: 0.5169 - _pinball_loss: 0.0501 - val_loss: 0.0855 - val_mean_absolute_error: 0.5758 - val_mean_squared_error: 0.8772 - val__pinball_loss: 0.0855\n",
      "Epoch 5/1000\n",
      "1137/1137 [==============================] - 9s 7ms/step - loss: 0.0474 - mean_absolute_error: 0.3922 - mean_squared_error: 0.4650 - _pinball_loss: 0.0474 - val_loss: 0.0811 - val_mean_absolute_error: 0.5387 - val_mean_squared_error: 0.7924 - val__pinball_loss: 0.0811\n",
      "Epoch 6/1000\n",
      "1137/1137 [==============================] - 9s 8ms/step - loss: 0.0458 - mean_absolute_error: 0.3779 - mean_squared_error: 0.4346 - _pinball_loss: 0.0458 - val_loss: 0.0870 - val_mean_absolute_error: 0.5469 - val_mean_squared_error: 0.8072 - val__pinball_loss: 0.0870\n",
      "Epoch 7/1000\n",
      "1137/1137 [==============================] - 9s 7ms/step - loss: 0.0443 - mean_absolute_error: 0.3657 - mean_squared_error: 0.4119 - _pinball_loss: 0.0443 - val_loss: 0.0858 - val_mean_absolute_error: 0.5216 - val_mean_squared_error: 0.7656 - val__pinball_loss: 0.0858\n"
     ]
    },
    {
     "data": {
      "text/plain": [
       "0.049442775547504425"
      ]
     },
     "execution_count": 4,
     "metadata": {},
     "output_type": "execute_result"
    }
   ],
   "source": [
    "import src.model.multiple_output.convolution\n",
    "import importlib\n",
    "importlib.reload(src.model.multiple_output.convolution)\n",
    "\n",
    "from src.model.multiple_output.convolution import Convolution3\n",
    "\n",
    "one_week_window = WindowGenerator(\n",
    "    train_df,\n",
    "    valid_df,\n",
    "    test_df,\n",
    "    input_width=48 * 7,\n",
    "    label_width=48 * 2,\n",
    "    shift=48 * 2,\n",
    "    label_columns=[\"TARGET\"]\n",
    ")\n",
    "\n",
    "conv3 = Convolution3(INPUT_STEPS, OUTPUT_STEPS, NUM_FEATURES)\n",
    "compile_and_fit_with_pinball_loss(conv3, one_week_window, 0.1)\n",
    "conv3.evaluate(one_week_window.test, verbose=0)[0]"
   ]
  },
  {
   "cell_type": "code",
   "execution_count": 2,
   "metadata": {},
   "outputs": [
    {
     "name": "stdout",
     "output_type": "stream",
     "text": [
      "Epoch 1/1000\n",
      "1143/1143 [==============================] - 6s 5ms/step - loss: 0.0742 - mean_absolute_error: 0.5829 - mean_squared_error: 0.8323 - _pinball_loss: 0.0742 - val_loss: 0.0773 - val_mean_absolute_error: 0.6740 - val_mean_squared_error: 1.0914 - val__pinball_loss: 0.0773\n",
      "Epoch 2/1000\n",
      "1143/1143 [==============================] - 6s 5ms/step - loss: 0.0600 - mean_absolute_error: 0.4983 - mean_squared_error: 0.6755 - _pinball_loss: 0.0600 - val_loss: 0.0755 - val_mean_absolute_error: 0.6377 - val_mean_squared_error: 1.0115 - val__pinball_loss: 0.0755\n",
      "Epoch 3/1000\n",
      "1143/1143 [==============================] - 6s 5ms/step - loss: 0.0589 - mean_absolute_error: 0.4884 - mean_squared_error: 0.6630 - _pinball_loss: 0.0589 - val_loss: 0.0742 - val_mean_absolute_error: 0.6188 - val_mean_squared_error: 0.9786 - val__pinball_loss: 0.0742\n",
      "Epoch 4/1000\n",
      "1143/1143 [==============================] - 6s 5ms/step - loss: 0.0580 - mean_absolute_error: 0.4793 - mean_squared_error: 0.6513 - _pinball_loss: 0.0580 - val_loss: 0.0749 - val_mean_absolute_error: 0.6257 - val_mean_squared_error: 1.0050 - val__pinball_loss: 0.0749\n",
      "Epoch 5/1000\n",
      "1143/1143 [==============================] - 6s 5ms/step - loss: 0.0574 - mean_absolute_error: 0.4755 - mean_squared_error: 0.6494 - _pinball_loss: 0.0574 - val_loss: 0.0746 - val_mean_absolute_error: 0.6345 - val_mean_squared_error: 1.0349 - val__pinball_loss: 0.0746\n",
      "Epoch 6/1000\n",
      "1143/1143 [==============================] - 6s 5ms/step - loss: 0.0567 - mean_absolute_error: 0.4708 - mean_squared_error: 0.6465 - _pinball_loss: 0.0567 - val_loss: 0.0736 - val_mean_absolute_error: 0.6055 - val_mean_squared_error: 0.9535 - val__pinball_loss: 0.0736\n",
      "Epoch 7/1000\n",
      "1143/1143 [==============================] - 6s 5ms/step - loss: 0.0564 - mean_absolute_error: 0.4688 - mean_squared_error: 0.6455 - _pinball_loss: 0.0564 - val_loss: 0.0729 - val_mean_absolute_error: 0.6063 - val_mean_squared_error: 0.9697 - val__pinball_loss: 0.0729\n",
      "Epoch 8/1000\n",
      "1143/1143 [==============================] - 5s 5ms/step - loss: 0.0560 - mean_absolute_error: 0.4644 - mean_squared_error: 0.6396 - _pinball_loss: 0.0560 - val_loss: 0.0725 - val_mean_absolute_error: 0.6103 - val_mean_squared_error: 0.9879 - val__pinball_loss: 0.0725\n",
      "Epoch 9/1000\n",
      "1143/1143 [==============================] - 5s 5ms/step - loss: 0.0557 - mean_absolute_error: 0.4621 - mean_squared_error: 0.6390 - _pinball_loss: 0.0557 - val_loss: 0.0726 - val_mean_absolute_error: 0.6031 - val_mean_squared_error: 0.9659 - val__pinball_loss: 0.0726\n",
      "Epoch 10/1000\n",
      "1143/1143 [==============================] - 5s 5ms/step - loss: 0.0554 - mean_absolute_error: 0.4605 - mean_squared_error: 0.6377 - _pinball_loss: 0.0554 - val_loss: 0.0721 - val_mean_absolute_error: 0.6139 - val_mean_squared_error: 1.0151 - val__pinball_loss: 0.0721\n",
      "Epoch 11/1000\n",
      "1143/1143 [==============================] - 5s 5ms/step - loss: 0.0548 - mean_absolute_error: 0.4562 - mean_squared_error: 0.6378 - _pinball_loss: 0.0548 - val_loss: 0.0723 - val_mean_absolute_error: 0.6038 - val_mean_squared_error: 0.9703 - val__pinball_loss: 0.0723\n",
      "Epoch 12/1000\n",
      "1143/1143 [==============================] - 5s 5ms/step - loss: 0.0548 - mean_absolute_error: 0.4559 - mean_squared_error: 0.6371 - _pinball_loss: 0.0548 - val_loss: 0.0711 - val_mean_absolute_error: 0.5935 - val_mean_squared_error: 0.9446 - val__pinball_loss: 0.0711\n",
      "Epoch 13/1000\n",
      "1143/1143 [==============================] - 5s 5ms/step - loss: 0.0544 - mean_absolute_error: 0.4533 - mean_squared_error: 0.6364 - _pinball_loss: 0.0544 - val_loss: 0.0714 - val_mean_absolute_error: 0.6072 - val_mean_squared_error: 1.0113 - val__pinball_loss: 0.0714\n",
      "Epoch 14/1000\n",
      "1143/1143 [==============================] - 5s 5ms/step - loss: 0.0541 - mean_absolute_error: 0.4503 - mean_squared_error: 0.6338 - _pinball_loss: 0.0541 - val_loss: 0.0718 - val_mean_absolute_error: 0.5871 - val_mean_squared_error: 0.9456 - val__pinball_loss: 0.0718\n",
      "Epoch 15/1000\n",
      "1143/1143 [==============================] - 5s 5ms/step - loss: 0.0539 - mean_absolute_error: 0.4490 - mean_squared_error: 0.6346 - _pinball_loss: 0.0539 - val_loss: 0.0712 - val_mean_absolute_error: 0.6104 - val_mean_squared_error: 1.0370 - val__pinball_loss: 0.0712\n",
      "Epoch 16/1000\n",
      "1143/1143 [==============================] - 5s 5ms/step - loss: 0.0537 - mean_absolute_error: 0.4484 - mean_squared_error: 0.6367 - _pinball_loss: 0.0537 - val_loss: 0.0713 - val_mean_absolute_error: 0.6102 - val_mean_squared_error: 1.0190 - val__pinball_loss: 0.0713\n",
      "Epoch 17/1000\n",
      "1143/1143 [==============================] - 5s 5ms/step - loss: 0.0535 - mean_absolute_error: 0.4466 - mean_squared_error: 0.6358 - _pinball_loss: 0.0535 - val_loss: 0.0709 - val_mean_absolute_error: 0.5868 - val_mean_squared_error: 0.9533 - val__pinball_loss: 0.0709\n",
      "Epoch 18/1000\n",
      "1143/1143 [==============================] - 5s 5ms/step - loss: 0.0532 - mean_absolute_error: 0.4444 - mean_squared_error: 0.6347 - _pinball_loss: 0.0532 - val_loss: 0.0713 - val_mean_absolute_error: 0.5798 - val_mean_squared_error: 0.9407 - val__pinball_loss: 0.0713\n",
      "Epoch 19/1000\n",
      "1143/1143 [==============================] - 5s 5ms/step - loss: 0.0530 - mean_absolute_error: 0.4428 - mean_squared_error: 0.6330 - _pinball_loss: 0.0530 - val_loss: 0.0712 - val_mean_absolute_error: 0.5932 - val_mean_squared_error: 0.9812 - val__pinball_loss: 0.0712\n",
      "Epoch 20/1000\n",
      "1143/1143 [==============================] - 6s 5ms/step - loss: 0.0529 - mean_absolute_error: 0.4422 - mean_squared_error: 0.6345 - _pinball_loss: 0.0529 - val_loss: 0.0713 - val_mean_absolute_error: 0.5993 - val_mean_squared_error: 1.0027 - val__pinball_loss: 0.0713\n",
      "Epoch 21/1000\n",
      "1143/1143 [==============================] - 6s 5ms/step - loss: 0.0527 - mean_absolute_error: 0.4414 - mean_squared_error: 0.6327 - _pinball_loss: 0.0527 - val_loss: 0.0705 - val_mean_absolute_error: 0.5734 - val_mean_squared_error: 0.9195 - val__pinball_loss: 0.0705\n",
      "Epoch 22/1000\n",
      "1143/1143 [==============================] - 6s 5ms/step - loss: 0.0525 - mean_absolute_error: 0.4395 - mean_squared_error: 0.6283 - _pinball_loss: 0.0525 - val_loss: 0.0710 - val_mean_absolute_error: 0.5855 - val_mean_squared_error: 0.9501 - val__pinball_loss: 0.0710\n",
      "Epoch 23/1000\n",
      "1143/1143 [==============================] - 5s 5ms/step - loss: 0.0526 - mean_absolute_error: 0.4397 - mean_squared_error: 0.6288 - _pinball_loss: 0.0526 - val_loss: 0.0704 - val_mean_absolute_error: 0.5899 - val_mean_squared_error: 0.9668 - val__pinball_loss: 0.0704\n",
      "Epoch 24/1000\n",
      "1143/1143 [==============================] - 6s 5ms/step - loss: 0.0525 - mean_absolute_error: 0.4389 - mean_squared_error: 0.6277 - _pinball_loss: 0.0525 - val_loss: 0.0704 - val_mean_absolute_error: 0.5848 - val_mean_squared_error: 0.9514 - val__pinball_loss: 0.0704\n",
      "Epoch 25/1000\n",
      "1143/1143 [==============================] - 5s 5ms/step - loss: 0.0525 - mean_absolute_error: 0.4383 - mean_squared_error: 0.6257 - _pinball_loss: 0.0525 - val_loss: 0.0708 - val_mean_absolute_error: 0.5860 - val_mean_squared_error: 0.9613 - val__pinball_loss: 0.0708\n",
      "Epoch 26/1000\n",
      "1143/1143 [==============================] - 6s 5ms/step - loss: 0.0524 - mean_absolute_error: 0.4378 - mean_squared_error: 0.6244 - _pinball_loss: 0.0524 - val_loss: 0.0712 - val_mean_absolute_error: 0.5710 - val_mean_squared_error: 0.9135 - val__pinball_loss: 0.0712\n",
      "Epoch 27/1000\n",
      "1143/1143 [==============================] - 6s 5ms/step - loss: 0.0523 - mean_absolute_error: 0.4374 - mean_squared_error: 0.6244 - _pinball_loss: 0.0523 - val_loss: 0.0714 - val_mean_absolute_error: 0.5789 - val_mean_squared_error: 0.9413 - val__pinball_loss: 0.0714\n",
      "Epoch 28/1000\n",
      "1143/1143 [==============================] - 5s 5ms/step - loss: 0.0524 - mean_absolute_error: 0.4382 - mean_squared_error: 0.6269 - _pinball_loss: 0.0524 - val_loss: 0.0713 - val_mean_absolute_error: 0.5862 - val_mean_squared_error: 0.9656 - val__pinball_loss: 0.0713\n",
      "Epoch 29/1000\n",
      "1143/1143 [==============================] - 6s 5ms/step - loss: 0.0522 - mean_absolute_error: 0.4364 - mean_squared_error: 0.6218 - _pinball_loss: 0.0522 - val_loss: 0.0708 - val_mean_absolute_error: 0.5840 - val_mean_squared_error: 0.9592 - val__pinball_loss: 0.0708\n"
     ]
    },
    {
     "data": {
      "text/plain": [
       "0.043538033962249756"
      ]
     },
     "execution_count": 2,
     "metadata": {},
     "output_type": "execute_result"
    }
   ],
   "source": [
    "import src.model.multiple_output.convolution\n",
    "import importlib\n",
    "importlib.reload(src.model.multiple_output.convolution)\n",
    "\n",
    "from src.model.multiple_output.convolution import Convolution2\n",
    "\n",
    "one_week_window = WindowGenerator(\n",
    "    train_df,\n",
    "    valid_df,\n",
    "    test_df,\n",
    "    input_width=48 * 3,\n",
    "    label_width=48 * 2,\n",
    "    shift=48 * 2,\n",
    "    label_columns=[\"TARGET\"]\n",
    ")\n",
    "\n",
    "conv2 = Convolution2((3, 48), OUTPUT_STEPS, NUM_FEATURES)\n",
    "compile_and_fit_with_pinball_loss(conv2, one_week_window, 0.1)\n",
    "conv2.evaluate(one_week_window.test, verbose=0)[0]"
   ]
  },
  {
   "cell_type": "code",
   "execution_count": null,
   "metadata": {},
   "outputs": [
    {
     "name": "stdout",
     "output_type": "stream",
     "text": [
      "Epoch 1/1000\n",
      "1137/1137 [==============================] - 17s 14ms/step - loss: 0.0832 - mean_absolute_error: 0.6554 - mean_squared_error: 0.8883 - _pinball_loss: 0.0832 - val_loss: 0.0900 - val_mean_absolute_error: 0.6716 - val_mean_squared_error: 0.9053 - val__pinball_loss: 0.0900\n",
      "Epoch 2/1000\n",
      "1137/1137 [==============================] - 13s 11ms/step - loss: 0.0726 - mean_absolute_error: 0.5898 - mean_squared_error: 0.7381 - _pinball_loss: 0.0726 - val_loss: 0.0891 - val_mean_absolute_error: 0.7202 - val_mean_squared_error: 1.0367 - val__pinball_loss: 0.0891\n",
      "Epoch 3/1000\n",
      "1137/1137 [==============================] - 11s 9ms/step - loss: 0.0701 - mean_absolute_error: 0.5686 - mean_squared_error: 0.7059 - _pinball_loss: 0.0701 - val_loss: 0.0864 - val_mean_absolute_error: 0.6540 - val_mean_squared_error: 0.8960 - val__pinball_loss: 0.0864\n",
      "Epoch 4/1000\n",
      "1137/1137 [==============================] - 11s 10ms/step - loss: 0.0682 - mean_absolute_error: 0.5521 - mean_squared_error: 0.6811 - _pinball_loss: 0.0682 - val_loss: 0.0880 - val_mean_absolute_error: 0.6749 - val_mean_squared_error: 0.9670 - val__pinball_loss: 0.0880\n",
      "Epoch 5/1000\n",
      "1137/1137 [==============================] - 12s 10ms/step - loss: 0.0668 - mean_absolute_error: 0.5417 - mean_squared_error: 0.6699 - _pinball_loss: 0.0668 - val_loss: 0.0854 - val_mean_absolute_error: 0.6499 - val_mean_squared_error: 0.9329 - val__pinball_loss: 0.0854\n",
      "Epoch 6/1000\n",
      "1137/1137 [==============================] - 14s 11ms/step - loss: 0.0654 - mean_absolute_error: 0.5302 - mean_squared_error: 0.6541 - _pinball_loss: 0.0654 - val_loss: 0.0839 - val_mean_absolute_error: 0.6284 - val_mean_squared_error: 0.8857 - val__pinball_loss: 0.0839\n",
      "Epoch 7/1000\n",
      "1137/1137 [==============================] - 16s 14ms/step - loss: 0.0641 - mean_absolute_error: 0.5204 - mean_squared_error: 0.6441 - _pinball_loss: 0.0641 - val_loss: 0.0843 - val_mean_absolute_error: 0.6686 - val_mean_squared_error: 1.0038 - val__pinball_loss: 0.0843\n",
      "Epoch 8/1000\n",
      " 215/1137 [====>.........................] - ETA: 6s - loss: 0.0633 - mean_absolute_error: 0.5142 - mean_squared_error: 0.6340 - _pinball_loss: 0.0633"
     ]
    }
   ],
   "source": [
    "import src.model.multiple_output.convolution\n",
    "import importlib\n",
    "importlib.reload(src.model.multiple_output.convolution)\n",
    "\n",
    "from src.model.multiple_output.convolution import Convolution4\n",
    "\n",
    "one_week_window = WindowGenerator(\n",
    "    train_df,\n",
    "    valid_df,\n",
    "    test_df,\n",
    "    input_width=48 * 7,\n",
    "    label_width=48 * 2,\n",
    "    shift=48 * 2,\n",
    "    label_columns=[\"TARGET\"]\n",
    ")\n",
    "\n",
    "conv4 = Convolution4((3, 48), OUTPUT_STEPS, NUM_FEATURES)\n",
    "compile_and_fit_with_pinball_loss(conv4, one_week_window, 0.1)\n",
    "conv4.evaluate(one_week_window.test, verbose=0)[0]"
   ]
  },
  {
   "cell_type": "code",
   "execution_count": 48,
   "metadata": {},
   "outputs": [
    {
     "name": "stdout",
     "output_type": "stream",
     "text": [
      "q = 0.1\n",
      "Epoch 1/1000\n",
      "1137/1137 [==============================] - 12s 11ms/step - loss: 0.0843 - mean_absolute_error: 0.6627 - mean_squared_error: 0.9156 - _pinball_loss: 0.0843 - val_loss: 0.0995 - val_mean_absolute_error: 0.8767 - val_mean_squared_error: 1.3913 - val__pinball_loss: 0.0995\n",
      "Epoch 2/1000\n",
      "1137/1137 [==============================] - 12s 11ms/step - loss: 0.0727 - mean_absolute_error: 0.5909 - mean_squared_error: 0.7491 - _pinball_loss: 0.0727 - val_loss: 0.0994 - val_mean_absolute_error: 0.8103 - val_mean_squared_error: 1.2657 - val__pinball_loss: 0.0994\n",
      "Epoch 3/1000\n",
      " 438/1137 [==========>...................] - ETA: 6s - loss: 0.0711 - mean_absolute_error: 0.5754 - mean_squared_error: 0.7207 - _pinball_loss: 0.0711"
     ]
    },
    {
     "ename": "KeyboardInterrupt",
     "evalue": "",
     "output_type": "error",
     "traceback": [
      "\u001b[1;31m---------------------------------------------------------------------------\u001b[0m",
      "\u001b[1;31mKeyboardInterrupt\u001b[0m                         Traceback (most recent call last)",
      "\u001b[1;32m<ipython-input-48-e2a7fc5c553d>\u001b[0m in \u001b[0;36m<module>\u001b[1;34m\u001b[0m\n\u001b[0;32m     20\u001b[0m     \u001b[0mloss_function\u001b[0m \u001b[1;33m=\u001b[0m \u001b[0mpinball_loss\u001b[0m\u001b[1;33m(\u001b[0m\u001b[0mq\u001b[0m\u001b[1;33m)\u001b[0m\u001b[1;33m\u001b[0m\u001b[1;33m\u001b[0m\u001b[0m\n\u001b[0;32m     21\u001b[0m \u001b[1;33m\u001b[0m\u001b[0m\n\u001b[1;32m---> 22\u001b[1;33m     \u001b[0mcompile_and_fit_with_pinball_loss\u001b[0m\u001b[1;33m(\u001b[0m\u001b[0mconv\u001b[0m\u001b[1;33m,\u001b[0m \u001b[0mone_week_window\u001b[0m\u001b[1;33m,\u001b[0m \u001b[0mq\u001b[0m\u001b[1;33m)\u001b[0m\u001b[1;33m\u001b[0m\u001b[1;33m\u001b[0m\u001b[0m\n\u001b[0m\u001b[0;32m     23\u001b[0m     \u001b[0mresult_dict\u001b[0m\u001b[1;33m[\u001b[0m\u001b[0mq\u001b[0m\u001b[1;33m]\u001b[0m \u001b[1;33m=\u001b[0m \u001b[0mconv\u001b[0m\u001b[1;33m.\u001b[0m\u001b[0mevaluate\u001b[0m\u001b[1;33m(\u001b[0m\u001b[0mone_week_window\u001b[0m\u001b[1;33m.\u001b[0m\u001b[0mtest\u001b[0m\u001b[1;33m,\u001b[0m \u001b[0mverbose\u001b[0m\u001b[1;33m=\u001b[0m\u001b[1;36m0\u001b[0m\u001b[1;33m)\u001b[0m\u001b[1;33m\u001b[0m\u001b[1;33m\u001b[0m\u001b[0m\n\u001b[0;32m     24\u001b[0m     \u001b[0mmake_submission_file\u001b[0m\u001b[1;33m(\u001b[0m\u001b[0mconv\u001b[0m\u001b[1;33m,\u001b[0m \u001b[0msubmission_df\u001b[0m\u001b[1;33m,\u001b[0m \u001b[1;36m48\u001b[0m \u001b[1;33m*\u001b[0m \u001b[1;36m7\u001b[0m\u001b[1;33m,\u001b[0m \u001b[0mq\u001b[0m\u001b[1;33m)\u001b[0m\u001b[1;33m\u001b[0m\u001b[1;33m\u001b[0m\u001b[0m\n",
      "\u001b[1;32m~\\PycharmProjects\\dacon\\235680\\src\\trainers.py\u001b[0m in \u001b[0;36mcompile_and_fit_with_pinball_loss\u001b[1;34m(model, window, tau, patience)\u001b[0m\n\u001b[0;32m     23\u001b[0m \u001b[1;33m\u001b[0m\u001b[0m\n\u001b[0;32m     24\u001b[0m     history = model.fit(\n\u001b[1;32m---> 25\u001b[1;33m         \u001b[0mwindow\u001b[0m\u001b[1;33m.\u001b[0m\u001b[0mtrain\u001b[0m\u001b[1;33m,\u001b[0m \u001b[0mepochs\u001b[0m\u001b[1;33m=\u001b[0m\u001b[0mMAX_EPOCHS\u001b[0m\u001b[1;33m,\u001b[0m \u001b[0mvalidation_data\u001b[0m\u001b[1;33m=\u001b[0m\u001b[0mwindow\u001b[0m\u001b[1;33m.\u001b[0m\u001b[0mvalid\u001b[0m\u001b[1;33m,\u001b[0m \u001b[0mcallbacks\u001b[0m\u001b[1;33m=\u001b[0m\u001b[1;33m[\u001b[0m\u001b[0mearly_stopping\u001b[0m\u001b[1;33m]\u001b[0m\u001b[1;33m\u001b[0m\u001b[1;33m\u001b[0m\u001b[0m\n\u001b[0m\u001b[0;32m     26\u001b[0m     )\n\u001b[0;32m     27\u001b[0m \u001b[1;33m\u001b[0m\u001b[0m\n",
      "\u001b[1;32m~\\anaconda3\\envs\\dacon\\lib\\site-packages\\tensorflow\\python\\keras\\engine\\training.py\u001b[0m in \u001b[0;36mfit\u001b[1;34m(self, x, y, batch_size, epochs, verbose, callbacks, validation_split, validation_data, shuffle, class_weight, sample_weight, initial_epoch, steps_per_epoch, validation_steps, validation_batch_size, validation_freq, max_queue_size, workers, use_multiprocessing)\u001b[0m\n\u001b[0;32m   1103\u001b[0m               \u001b[0mlogs\u001b[0m \u001b[1;33m=\u001b[0m \u001b[0mtmp_logs\u001b[0m  \u001b[1;31m# No error, now safe to assign to logs.\u001b[0m\u001b[1;33m\u001b[0m\u001b[1;33m\u001b[0m\u001b[0m\n\u001b[0;32m   1104\u001b[0m               \u001b[0mend_step\u001b[0m \u001b[1;33m=\u001b[0m \u001b[0mstep\u001b[0m \u001b[1;33m+\u001b[0m \u001b[0mdata_handler\u001b[0m\u001b[1;33m.\u001b[0m\u001b[0mstep_increment\u001b[0m\u001b[1;33m\u001b[0m\u001b[1;33m\u001b[0m\u001b[0m\n\u001b[1;32m-> 1105\u001b[1;33m               \u001b[0mcallbacks\u001b[0m\u001b[1;33m.\u001b[0m\u001b[0mon_train_batch_end\u001b[0m\u001b[1;33m(\u001b[0m\u001b[0mend_step\u001b[0m\u001b[1;33m,\u001b[0m \u001b[0mlogs\u001b[0m\u001b[1;33m)\u001b[0m\u001b[1;33m\u001b[0m\u001b[1;33m\u001b[0m\u001b[0m\n\u001b[0m\u001b[0;32m   1106\u001b[0m               \u001b[1;32mif\u001b[0m \u001b[0mself\u001b[0m\u001b[1;33m.\u001b[0m\u001b[0mstop_training\u001b[0m\u001b[1;33m:\u001b[0m\u001b[1;33m\u001b[0m\u001b[1;33m\u001b[0m\u001b[0m\n\u001b[0;32m   1107\u001b[0m                 \u001b[1;32mbreak\u001b[0m\u001b[1;33m\u001b[0m\u001b[1;33m\u001b[0m\u001b[0m\n",
      "\u001b[1;32m~\\anaconda3\\envs\\dacon\\lib\\site-packages\\tensorflow\\python\\keras\\callbacks.py\u001b[0m in \u001b[0;36mon_train_batch_end\u001b[1;34m(self, batch, logs)\u001b[0m\n\u001b[0;32m    452\u001b[0m     \"\"\"\n\u001b[0;32m    453\u001b[0m     \u001b[1;32mif\u001b[0m \u001b[0mself\u001b[0m\u001b[1;33m.\u001b[0m\u001b[0m_should_call_train_batch_hooks\u001b[0m\u001b[1;33m:\u001b[0m\u001b[1;33m\u001b[0m\u001b[1;33m\u001b[0m\u001b[0m\n\u001b[1;32m--> 454\u001b[1;33m       \u001b[0mself\u001b[0m\u001b[1;33m.\u001b[0m\u001b[0m_call_batch_hook\u001b[0m\u001b[1;33m(\u001b[0m\u001b[0mModeKeys\u001b[0m\u001b[1;33m.\u001b[0m\u001b[0mTRAIN\u001b[0m\u001b[1;33m,\u001b[0m \u001b[1;34m'end'\u001b[0m\u001b[1;33m,\u001b[0m \u001b[0mbatch\u001b[0m\u001b[1;33m,\u001b[0m \u001b[0mlogs\u001b[0m\u001b[1;33m=\u001b[0m\u001b[0mlogs\u001b[0m\u001b[1;33m)\u001b[0m\u001b[1;33m\u001b[0m\u001b[1;33m\u001b[0m\u001b[0m\n\u001b[0m\u001b[0;32m    455\u001b[0m \u001b[1;33m\u001b[0m\u001b[0m\n\u001b[0;32m    456\u001b[0m   \u001b[1;32mdef\u001b[0m \u001b[0mon_test_batch_begin\u001b[0m\u001b[1;33m(\u001b[0m\u001b[0mself\u001b[0m\u001b[1;33m,\u001b[0m \u001b[0mbatch\u001b[0m\u001b[1;33m,\u001b[0m \u001b[0mlogs\u001b[0m\u001b[1;33m=\u001b[0m\u001b[1;32mNone\u001b[0m\u001b[1;33m)\u001b[0m\u001b[1;33m:\u001b[0m\u001b[1;33m\u001b[0m\u001b[1;33m\u001b[0m\u001b[0m\n",
      "\u001b[1;32m~\\anaconda3\\envs\\dacon\\lib\\site-packages\\tensorflow\\python\\keras\\callbacks.py\u001b[0m in \u001b[0;36m_call_batch_hook\u001b[1;34m(self, mode, hook, batch, logs)\u001b[0m\n\u001b[0;32m    294\u001b[0m       \u001b[0mself\u001b[0m\u001b[1;33m.\u001b[0m\u001b[0m_call_batch_begin_hook\u001b[0m\u001b[1;33m(\u001b[0m\u001b[0mmode\u001b[0m\u001b[1;33m,\u001b[0m \u001b[0mbatch\u001b[0m\u001b[1;33m,\u001b[0m \u001b[0mlogs\u001b[0m\u001b[1;33m)\u001b[0m\u001b[1;33m\u001b[0m\u001b[1;33m\u001b[0m\u001b[0m\n\u001b[0;32m    295\u001b[0m     \u001b[1;32melif\u001b[0m \u001b[0mhook\u001b[0m \u001b[1;33m==\u001b[0m \u001b[1;34m'end'\u001b[0m\u001b[1;33m:\u001b[0m\u001b[1;33m\u001b[0m\u001b[1;33m\u001b[0m\u001b[0m\n\u001b[1;32m--> 296\u001b[1;33m       \u001b[0mself\u001b[0m\u001b[1;33m.\u001b[0m\u001b[0m_call_batch_end_hook\u001b[0m\u001b[1;33m(\u001b[0m\u001b[0mmode\u001b[0m\u001b[1;33m,\u001b[0m \u001b[0mbatch\u001b[0m\u001b[1;33m,\u001b[0m \u001b[0mlogs\u001b[0m\u001b[1;33m)\u001b[0m\u001b[1;33m\u001b[0m\u001b[1;33m\u001b[0m\u001b[0m\n\u001b[0m\u001b[0;32m    297\u001b[0m     \u001b[1;32melse\u001b[0m\u001b[1;33m:\u001b[0m\u001b[1;33m\u001b[0m\u001b[1;33m\u001b[0m\u001b[0m\n\u001b[0;32m    298\u001b[0m       \u001b[1;32mraise\u001b[0m \u001b[0mValueError\u001b[0m\u001b[1;33m(\u001b[0m\u001b[1;34m'Unrecognized hook: {}'\u001b[0m\u001b[1;33m.\u001b[0m\u001b[0mformat\u001b[0m\u001b[1;33m(\u001b[0m\u001b[0mhook\u001b[0m\u001b[1;33m)\u001b[0m\u001b[1;33m)\u001b[0m\u001b[1;33m\u001b[0m\u001b[1;33m\u001b[0m\u001b[0m\n",
      "\u001b[1;32m~\\anaconda3\\envs\\dacon\\lib\\site-packages\\tensorflow\\python\\keras\\callbacks.py\u001b[0m in \u001b[0;36m_call_batch_end_hook\u001b[1;34m(self, mode, batch, logs)\u001b[0m\n\u001b[0;32m    314\u001b[0m       \u001b[0mself\u001b[0m\u001b[1;33m.\u001b[0m\u001b[0m_batch_times\u001b[0m\u001b[1;33m.\u001b[0m\u001b[0mappend\u001b[0m\u001b[1;33m(\u001b[0m\u001b[0mbatch_time\u001b[0m\u001b[1;33m)\u001b[0m\u001b[1;33m\u001b[0m\u001b[1;33m\u001b[0m\u001b[0m\n\u001b[0;32m    315\u001b[0m \u001b[1;33m\u001b[0m\u001b[0m\n\u001b[1;32m--> 316\u001b[1;33m     \u001b[0mself\u001b[0m\u001b[1;33m.\u001b[0m\u001b[0m_call_batch_hook_helper\u001b[0m\u001b[1;33m(\u001b[0m\u001b[0mhook_name\u001b[0m\u001b[1;33m,\u001b[0m \u001b[0mbatch\u001b[0m\u001b[1;33m,\u001b[0m \u001b[0mlogs\u001b[0m\u001b[1;33m)\u001b[0m\u001b[1;33m\u001b[0m\u001b[1;33m\u001b[0m\u001b[0m\n\u001b[0m\u001b[0;32m    317\u001b[0m \u001b[1;33m\u001b[0m\u001b[0m\n\u001b[0;32m    318\u001b[0m     \u001b[1;32mif\u001b[0m \u001b[0mlen\u001b[0m\u001b[1;33m(\u001b[0m\u001b[0mself\u001b[0m\u001b[1;33m.\u001b[0m\u001b[0m_batch_times\u001b[0m\u001b[1;33m)\u001b[0m \u001b[1;33m>=\u001b[0m \u001b[0mself\u001b[0m\u001b[1;33m.\u001b[0m\u001b[0m_num_batches_for_timing_check\u001b[0m\u001b[1;33m:\u001b[0m\u001b[1;33m\u001b[0m\u001b[1;33m\u001b[0m\u001b[0m\n",
      "\u001b[1;32m~\\anaconda3\\envs\\dacon\\lib\\site-packages\\tensorflow\\python\\keras\\callbacks.py\u001b[0m in \u001b[0;36m_call_batch_hook_helper\u001b[1;34m(self, hook_name, batch, logs)\u001b[0m\n\u001b[0;32m    354\u001b[0m       \u001b[0mhook\u001b[0m \u001b[1;33m=\u001b[0m \u001b[0mgetattr\u001b[0m\u001b[1;33m(\u001b[0m\u001b[0mcallback\u001b[0m\u001b[1;33m,\u001b[0m \u001b[0mhook_name\u001b[0m\u001b[1;33m)\u001b[0m\u001b[1;33m\u001b[0m\u001b[1;33m\u001b[0m\u001b[0m\n\u001b[0;32m    355\u001b[0m       \u001b[1;32mif\u001b[0m \u001b[0mgetattr\u001b[0m\u001b[1;33m(\u001b[0m\u001b[0mcallback\u001b[0m\u001b[1;33m,\u001b[0m \u001b[1;34m'_supports_tf_logs'\u001b[0m\u001b[1;33m,\u001b[0m \u001b[1;32mFalse\u001b[0m\u001b[1;33m)\u001b[0m\u001b[1;33m:\u001b[0m\u001b[1;33m\u001b[0m\u001b[1;33m\u001b[0m\u001b[0m\n\u001b[1;32m--> 356\u001b[1;33m         \u001b[0mhook\u001b[0m\u001b[1;33m(\u001b[0m\u001b[0mbatch\u001b[0m\u001b[1;33m,\u001b[0m \u001b[0mlogs\u001b[0m\u001b[1;33m)\u001b[0m\u001b[1;33m\u001b[0m\u001b[1;33m\u001b[0m\u001b[0m\n\u001b[0m\u001b[0;32m    357\u001b[0m       \u001b[1;32melse\u001b[0m\u001b[1;33m:\u001b[0m\u001b[1;33m\u001b[0m\u001b[1;33m\u001b[0m\u001b[0m\n\u001b[0;32m    358\u001b[0m         \u001b[1;32mif\u001b[0m \u001b[0mnumpy_logs\u001b[0m \u001b[1;32mis\u001b[0m \u001b[1;32mNone\u001b[0m\u001b[1;33m:\u001b[0m  \u001b[1;31m# Only convert once.\u001b[0m\u001b[1;33m\u001b[0m\u001b[1;33m\u001b[0m\u001b[0m\n",
      "\u001b[1;32m~\\anaconda3\\envs\\dacon\\lib\\site-packages\\tensorflow\\python\\keras\\callbacks.py\u001b[0m in \u001b[0;36mon_train_batch_end\u001b[1;34m(self, batch, logs)\u001b[0m\n\u001b[0;32m   1018\u001b[0m \u001b[1;33m\u001b[0m\u001b[0m\n\u001b[0;32m   1019\u001b[0m   \u001b[1;32mdef\u001b[0m \u001b[0mon_train_batch_end\u001b[0m\u001b[1;33m(\u001b[0m\u001b[0mself\u001b[0m\u001b[1;33m,\u001b[0m \u001b[0mbatch\u001b[0m\u001b[1;33m,\u001b[0m \u001b[0mlogs\u001b[0m\u001b[1;33m=\u001b[0m\u001b[1;32mNone\u001b[0m\u001b[1;33m)\u001b[0m\u001b[1;33m:\u001b[0m\u001b[1;33m\u001b[0m\u001b[1;33m\u001b[0m\u001b[0m\n\u001b[1;32m-> 1020\u001b[1;33m     \u001b[0mself\u001b[0m\u001b[1;33m.\u001b[0m\u001b[0m_batch_update_progbar\u001b[0m\u001b[1;33m(\u001b[0m\u001b[0mbatch\u001b[0m\u001b[1;33m,\u001b[0m \u001b[0mlogs\u001b[0m\u001b[1;33m)\u001b[0m\u001b[1;33m\u001b[0m\u001b[1;33m\u001b[0m\u001b[0m\n\u001b[0m\u001b[0;32m   1021\u001b[0m \u001b[1;33m\u001b[0m\u001b[0m\n\u001b[0;32m   1022\u001b[0m   \u001b[1;32mdef\u001b[0m \u001b[0mon_test_batch_end\u001b[0m\u001b[1;33m(\u001b[0m\u001b[0mself\u001b[0m\u001b[1;33m,\u001b[0m \u001b[0mbatch\u001b[0m\u001b[1;33m,\u001b[0m \u001b[0mlogs\u001b[0m\u001b[1;33m=\u001b[0m\u001b[1;32mNone\u001b[0m\u001b[1;33m)\u001b[0m\u001b[1;33m:\u001b[0m\u001b[1;33m\u001b[0m\u001b[1;33m\u001b[0m\u001b[0m\n",
      "\u001b[1;32m~\\anaconda3\\envs\\dacon\\lib\\site-packages\\tensorflow\\python\\keras\\callbacks.py\u001b[0m in \u001b[0;36m_batch_update_progbar\u001b[1;34m(self, batch, logs)\u001b[0m\n\u001b[0;32m   1082\u001b[0m     \u001b[1;32mif\u001b[0m \u001b[0mself\u001b[0m\u001b[1;33m.\u001b[0m\u001b[0mverbose\u001b[0m \u001b[1;33m==\u001b[0m \u001b[1;36m1\u001b[0m\u001b[1;33m:\u001b[0m\u001b[1;33m\u001b[0m\u001b[1;33m\u001b[0m\u001b[0m\n\u001b[0;32m   1083\u001b[0m       \u001b[1;31m# Only block async when verbose = 1.\u001b[0m\u001b[1;33m\u001b[0m\u001b[1;33m\u001b[0m\u001b[1;33m\u001b[0m\u001b[0m\n\u001b[1;32m-> 1084\u001b[1;33m       \u001b[0mlogs\u001b[0m \u001b[1;33m=\u001b[0m \u001b[0mtf_utils\u001b[0m\u001b[1;33m.\u001b[0m\u001b[0mto_numpy_or_python_type\u001b[0m\u001b[1;33m(\u001b[0m\u001b[0mlogs\u001b[0m\u001b[1;33m)\u001b[0m\u001b[1;33m\u001b[0m\u001b[1;33m\u001b[0m\u001b[0m\n\u001b[0m\u001b[0;32m   1085\u001b[0m       \u001b[0mself\u001b[0m\u001b[1;33m.\u001b[0m\u001b[0mprogbar\u001b[0m\u001b[1;33m.\u001b[0m\u001b[0mupdate\u001b[0m\u001b[1;33m(\u001b[0m\u001b[0mself\u001b[0m\u001b[1;33m.\u001b[0m\u001b[0mseen\u001b[0m\u001b[1;33m,\u001b[0m \u001b[0mlist\u001b[0m\u001b[1;33m(\u001b[0m\u001b[0mlogs\u001b[0m\u001b[1;33m.\u001b[0m\u001b[0mitems\u001b[0m\u001b[1;33m(\u001b[0m\u001b[1;33m)\u001b[0m\u001b[1;33m)\u001b[0m\u001b[1;33m,\u001b[0m \u001b[0mfinalize\u001b[0m\u001b[1;33m=\u001b[0m\u001b[1;32mFalse\u001b[0m\u001b[1;33m)\u001b[0m\u001b[1;33m\u001b[0m\u001b[1;33m\u001b[0m\u001b[0m\n\u001b[0;32m   1086\u001b[0m \u001b[1;33m\u001b[0m\u001b[0m\n",
      "\u001b[1;32m~\\anaconda3\\envs\\dacon\\lib\\site-packages\\tensorflow\\python\\keras\\utils\\tf_utils.py\u001b[0m in \u001b[0;36mto_numpy_or_python_type\u001b[1;34m(tensors)\u001b[0m\n\u001b[0;32m    512\u001b[0m     \u001b[1;32mreturn\u001b[0m \u001b[0mt\u001b[0m  \u001b[1;31m# Don't turn ragged or sparse tensors to NumPy.\u001b[0m\u001b[1;33m\u001b[0m\u001b[1;33m\u001b[0m\u001b[0m\n\u001b[0;32m    513\u001b[0m \u001b[1;33m\u001b[0m\u001b[0m\n\u001b[1;32m--> 514\u001b[1;33m   \u001b[1;32mreturn\u001b[0m \u001b[0mnest\u001b[0m\u001b[1;33m.\u001b[0m\u001b[0mmap_structure\u001b[0m\u001b[1;33m(\u001b[0m\u001b[0m_to_single_numpy_or_python_type\u001b[0m\u001b[1;33m,\u001b[0m \u001b[0mtensors\u001b[0m\u001b[1;33m)\u001b[0m\u001b[1;33m\u001b[0m\u001b[1;33m\u001b[0m\u001b[0m\n\u001b[0m\u001b[0;32m    515\u001b[0m \u001b[1;33m\u001b[0m\u001b[0m\n\u001b[0;32m    516\u001b[0m \u001b[1;33m\u001b[0m\u001b[0m\n",
      "\u001b[1;32m~\\anaconda3\\envs\\dacon\\lib\\site-packages\\tensorflow\\python\\util\\nest.py\u001b[0m in \u001b[0;36mmap_structure\u001b[1;34m(func, *structure, **kwargs)\u001b[0m\n\u001b[0;32m    657\u001b[0m \u001b[1;33m\u001b[0m\u001b[0m\n\u001b[0;32m    658\u001b[0m   return pack_sequence_as(\n\u001b[1;32m--> 659\u001b[1;33m       \u001b[0mstructure\u001b[0m\u001b[1;33m[\u001b[0m\u001b[1;36m0\u001b[0m\u001b[1;33m]\u001b[0m\u001b[1;33m,\u001b[0m \u001b[1;33m[\u001b[0m\u001b[0mfunc\u001b[0m\u001b[1;33m(\u001b[0m\u001b[1;33m*\u001b[0m\u001b[0mx\u001b[0m\u001b[1;33m)\u001b[0m \u001b[1;32mfor\u001b[0m \u001b[0mx\u001b[0m \u001b[1;32min\u001b[0m \u001b[0mentries\u001b[0m\u001b[1;33m]\u001b[0m\u001b[1;33m,\u001b[0m\u001b[1;33m\u001b[0m\u001b[1;33m\u001b[0m\u001b[0m\n\u001b[0m\u001b[0;32m    660\u001b[0m       expand_composites=expand_composites)\n\u001b[0;32m    661\u001b[0m \u001b[1;33m\u001b[0m\u001b[0m\n",
      "\u001b[1;32m~\\anaconda3\\envs\\dacon\\lib\\site-packages\\tensorflow\\python\\util\\nest.py\u001b[0m in \u001b[0;36m<listcomp>\u001b[1;34m(.0)\u001b[0m\n\u001b[0;32m    657\u001b[0m \u001b[1;33m\u001b[0m\u001b[0m\n\u001b[0;32m    658\u001b[0m   return pack_sequence_as(\n\u001b[1;32m--> 659\u001b[1;33m       \u001b[0mstructure\u001b[0m\u001b[1;33m[\u001b[0m\u001b[1;36m0\u001b[0m\u001b[1;33m]\u001b[0m\u001b[1;33m,\u001b[0m \u001b[1;33m[\u001b[0m\u001b[0mfunc\u001b[0m\u001b[1;33m(\u001b[0m\u001b[1;33m*\u001b[0m\u001b[0mx\u001b[0m\u001b[1;33m)\u001b[0m \u001b[1;32mfor\u001b[0m \u001b[0mx\u001b[0m \u001b[1;32min\u001b[0m \u001b[0mentries\u001b[0m\u001b[1;33m]\u001b[0m\u001b[1;33m,\u001b[0m\u001b[1;33m\u001b[0m\u001b[1;33m\u001b[0m\u001b[0m\n\u001b[0m\u001b[0;32m    660\u001b[0m       expand_composites=expand_composites)\n\u001b[0;32m    661\u001b[0m \u001b[1;33m\u001b[0m\u001b[0m\n",
      "\u001b[1;32m~\\anaconda3\\envs\\dacon\\lib\\site-packages\\tensorflow\\python\\keras\\utils\\tf_utils.py\u001b[0m in \u001b[0;36m_to_single_numpy_or_python_type\u001b[1;34m(t)\u001b[0m\n\u001b[0;32m    508\u001b[0m   \u001b[1;32mdef\u001b[0m \u001b[0m_to_single_numpy_or_python_type\u001b[0m\u001b[1;33m(\u001b[0m\u001b[0mt\u001b[0m\u001b[1;33m)\u001b[0m\u001b[1;33m:\u001b[0m\u001b[1;33m\u001b[0m\u001b[1;33m\u001b[0m\u001b[0m\n\u001b[0;32m    509\u001b[0m     \u001b[1;32mif\u001b[0m \u001b[0misinstance\u001b[0m\u001b[1;33m(\u001b[0m\u001b[0mt\u001b[0m\u001b[1;33m,\u001b[0m \u001b[0mops\u001b[0m\u001b[1;33m.\u001b[0m\u001b[0mTensor\u001b[0m\u001b[1;33m)\u001b[0m\u001b[1;33m:\u001b[0m\u001b[1;33m\u001b[0m\u001b[1;33m\u001b[0m\u001b[0m\n\u001b[1;32m--> 510\u001b[1;33m       \u001b[0mx\u001b[0m \u001b[1;33m=\u001b[0m \u001b[0mt\u001b[0m\u001b[1;33m.\u001b[0m\u001b[0mnumpy\u001b[0m\u001b[1;33m(\u001b[0m\u001b[1;33m)\u001b[0m\u001b[1;33m\u001b[0m\u001b[1;33m\u001b[0m\u001b[0m\n\u001b[0m\u001b[0;32m    511\u001b[0m       \u001b[1;32mreturn\u001b[0m \u001b[0mx\u001b[0m\u001b[1;33m.\u001b[0m\u001b[0mitem\u001b[0m\u001b[1;33m(\u001b[0m\u001b[1;33m)\u001b[0m \u001b[1;32mif\u001b[0m \u001b[0mnp\u001b[0m\u001b[1;33m.\u001b[0m\u001b[0mndim\u001b[0m\u001b[1;33m(\u001b[0m\u001b[0mx\u001b[0m\u001b[1;33m)\u001b[0m \u001b[1;33m==\u001b[0m \u001b[1;36m0\u001b[0m \u001b[1;32melse\u001b[0m \u001b[0mx\u001b[0m\u001b[1;33m\u001b[0m\u001b[1;33m\u001b[0m\u001b[0m\n\u001b[0;32m    512\u001b[0m     \u001b[1;32mreturn\u001b[0m \u001b[0mt\u001b[0m  \u001b[1;31m# Don't turn ragged or sparse tensors to NumPy.\u001b[0m\u001b[1;33m\u001b[0m\u001b[1;33m\u001b[0m\u001b[0m\n",
      "\u001b[1;32m~\\anaconda3\\envs\\dacon\\lib\\site-packages\\tensorflow\\python\\framework\\ops.py\u001b[0m in \u001b[0;36mnumpy\u001b[1;34m(self)\u001b[0m\n\u001b[0;32m   1069\u001b[0m     \"\"\"\n\u001b[0;32m   1070\u001b[0m     \u001b[1;31m# TODO(slebedev): Consider avoiding a copy for non-CPU or remote tensors.\u001b[0m\u001b[1;33m\u001b[0m\u001b[1;33m\u001b[0m\u001b[1;33m\u001b[0m\u001b[0m\n\u001b[1;32m-> 1071\u001b[1;33m     \u001b[0mmaybe_arr\u001b[0m \u001b[1;33m=\u001b[0m \u001b[0mself\u001b[0m\u001b[1;33m.\u001b[0m\u001b[0m_numpy\u001b[0m\u001b[1;33m(\u001b[0m\u001b[1;33m)\u001b[0m  \u001b[1;31m# pylint: disable=protected-access\u001b[0m\u001b[1;33m\u001b[0m\u001b[1;33m\u001b[0m\u001b[0m\n\u001b[0m\u001b[0;32m   1072\u001b[0m     \u001b[1;32mreturn\u001b[0m \u001b[0mmaybe_arr\u001b[0m\u001b[1;33m.\u001b[0m\u001b[0mcopy\u001b[0m\u001b[1;33m(\u001b[0m\u001b[1;33m)\u001b[0m \u001b[1;32mif\u001b[0m \u001b[0misinstance\u001b[0m\u001b[1;33m(\u001b[0m\u001b[0mmaybe_arr\u001b[0m\u001b[1;33m,\u001b[0m \u001b[0mnp\u001b[0m\u001b[1;33m.\u001b[0m\u001b[0mndarray\u001b[0m\u001b[1;33m)\u001b[0m \u001b[1;32melse\u001b[0m \u001b[0mmaybe_arr\u001b[0m\u001b[1;33m\u001b[0m\u001b[1;33m\u001b[0m\u001b[0m\n\u001b[0;32m   1073\u001b[0m \u001b[1;33m\u001b[0m\u001b[0m\n",
      "\u001b[1;32m~\\anaconda3\\envs\\dacon\\lib\\site-packages\\tensorflow\\python\\framework\\ops.py\u001b[0m in \u001b[0;36m_numpy\u001b[1;34m(self)\u001b[0m\n\u001b[0;32m   1035\u001b[0m   \u001b[1;32mdef\u001b[0m \u001b[0m_numpy\u001b[0m\u001b[1;33m(\u001b[0m\u001b[0mself\u001b[0m\u001b[1;33m)\u001b[0m\u001b[1;33m:\u001b[0m\u001b[1;33m\u001b[0m\u001b[1;33m\u001b[0m\u001b[0m\n\u001b[0;32m   1036\u001b[0m     \u001b[1;32mtry\u001b[0m\u001b[1;33m:\u001b[0m\u001b[1;33m\u001b[0m\u001b[1;33m\u001b[0m\u001b[0m\n\u001b[1;32m-> 1037\u001b[1;33m       \u001b[1;32mreturn\u001b[0m \u001b[0mself\u001b[0m\u001b[1;33m.\u001b[0m\u001b[0m_numpy_internal\u001b[0m\u001b[1;33m(\u001b[0m\u001b[1;33m)\u001b[0m\u001b[1;33m\u001b[0m\u001b[1;33m\u001b[0m\u001b[0m\n\u001b[0m\u001b[0;32m   1038\u001b[0m     \u001b[1;32mexcept\u001b[0m \u001b[0mcore\u001b[0m\u001b[1;33m.\u001b[0m\u001b[0m_NotOkStatusException\u001b[0m \u001b[1;32mas\u001b[0m \u001b[0me\u001b[0m\u001b[1;33m:\u001b[0m  \u001b[1;31m# pylint: disable=protected-access\u001b[0m\u001b[1;33m\u001b[0m\u001b[1;33m\u001b[0m\u001b[0m\n\u001b[0;32m   1039\u001b[0m       \u001b[0msix\u001b[0m\u001b[1;33m.\u001b[0m\u001b[0mraise_from\u001b[0m\u001b[1;33m(\u001b[0m\u001b[0mcore\u001b[0m\u001b[1;33m.\u001b[0m\u001b[0m_status_to_exception\u001b[0m\u001b[1;33m(\u001b[0m\u001b[0me\u001b[0m\u001b[1;33m.\u001b[0m\u001b[0mcode\u001b[0m\u001b[1;33m,\u001b[0m \u001b[0me\u001b[0m\u001b[1;33m.\u001b[0m\u001b[0mmessage\u001b[0m\u001b[1;33m)\u001b[0m\u001b[1;33m,\u001b[0m \u001b[1;32mNone\u001b[0m\u001b[1;33m)\u001b[0m  \u001b[1;31m# pylint: disable=protected-access\u001b[0m\u001b[1;33m\u001b[0m\u001b[1;33m\u001b[0m\u001b[0m\n",
      "\u001b[1;31mKeyboardInterrupt\u001b[0m: "
     ]
    }
   ],
   "source": [
    "conv = Convolution4(INPUT_STEPS, OUTPUT_STEPS, NUM_FEATURES)\n",
    "submission_df = load_submission_data()\n",
    "result_dict = {}\n",
    "\n",
    "one_week_window = WindowGenerator(\n",
    "    train_df,\n",
    "    valid_df,\n",
    "    test_df,\n",
    "    input_width=48 * 7,\n",
    "    label_width=48 * 2,\n",
    "    shift=48 * 2,\n",
    "    label_columns=[\"TARGET\"]\n",
    ")\n",
    "\n",
    "\n",
    "for i in range(1, 10):\n",
    "    q = i/10\n",
    "    print(f\"q = {q}\")\n",
    "    conv = Convolution4(INPUT_STEPS, OUTPUT_STEPS, NUM_FEATURES)\n",
    "    loss_function = pinball_loss(q)\n",
    "    \n",
    "    compile_and_fit_with_pinball_loss(conv, one_week_window, q)\n",
    "    result_dict[q] = conv.evaluate(one_week_window.test, verbose=0)\n",
    "    make_submission_file(conv, submission_df, 48 * 7, q)"
   ]
  },
  {
   "cell_type": "code",
   "execution_count": null,
   "metadata": {},
   "outputs": [],
   "source": [
    "submission_df.to_csv('conv4.csv')"
   ]
  },
  {
   "cell_type": "code",
   "execution_count": null,
   "metadata": {},
   "outputs": [],
   "source": []
  }
 ],
 "metadata": {
  "kernelspec": {
   "display_name": "PyCharm (dacon)",
   "language": "python",
   "name": "pycharm-549c67b6"
  },
  "language_info": {
   "codemirror_mode": {
    "name": "ipython",
    "version": 3
   },
   "file_extension": ".py",
   "mimetype": "text/x-python",
   "name": "python",
   "nbconvert_exporter": "python",
   "pygments_lexer": "ipython3",
   "version": "3.7.9"
  }
 },
 "nbformat": 4,
 "nbformat_minor": 4
}
